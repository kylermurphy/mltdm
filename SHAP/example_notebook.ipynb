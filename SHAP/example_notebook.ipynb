{
 "cells": [
  {
   "cell_type": "markdown",
   "id": "8f174d93-54a1-4c6e-986f-6de70cc7c370",
   "metadata": {},
   "source": [
    "## Example: Making figures for Shapley Analysis\n",
    "- Assumes that RF model has already been trained and exists under \"FI_GEO_RFdat_AIMFAHR_forest.pkl\"\n",
    "- Assumes that data for model is curated and stored under \"FI_GEO_RFdat_AIMFAHR_data.h5\"\n",
    "\n",
    "Both were created from Kyle Murphy's notebook; the notebook was modifed slightly to pickle the trained RF model and save the training/test/out-of-sample data to file.\n",
    "\n",
    "See Murphy+2025 for RF model: https://doi.org/10.1029/2024SW003928"
   ]
  },
  {
   "cell_type": "code",
   "execution_count": 1,
   "id": "7126ce1a-dcef-4b8a-9ea2-7a2be82e1d5e",
   "metadata": {},
   "outputs": [],
   "source": [
    "import numpy as np\n",
    "import numpy.random as rand\n",
    "import pandas as pd\n",
    "import shap_analysis as shpa\n",
    "import time as pytime\n",
    "import matplotlib.pyplot as plt\n",
    "from matplotlib import gridspec"
   ]
  },
  {
   "cell_type": "code",
   "execution_count": 2,
   "id": "aaa1b341-6e9f-4c49-b69a-de0e89b61f8d",
   "metadata": {},
   "outputs": [],
   "source": [
    "import fasttreeshap as fts\n",
    "from fasttreeshap.plots import beeswarm, waterfall, bar\n",
    "import shap"
   ]
  },
  {
   "cell_type": "code",
   "execution_count": 4,
   "id": "e4e487d4-46d5-4402-814b-8df1d25a8c4b",
   "metadata": {},
   "outputs": [],
   "source": [
    "NJOBS = 8 # change based on your computer"
   ]
  },
  {
   "cell_type": "code",
   "execution_count": 5,
   "id": "a5036de9-2a39-44ef-8459-2765b8174af7",
   "metadata": {},
   "outputs": [],
   "source": [
    "# hack to save minimal viable explanation, since it takes a while to make\n",
    "def save_explanation(fname, expln):\n",
    "    # hack to avoid pickling and associated errors\n",
    "    dta = expln.data.astype(float)\n",
    "    np.savez(fname, values=expln.values, \n",
    "             base_values=expln.base_values, data=dta,\n",
    "             feature_names=expln.feature_names, \n",
    "             output_names=expln.output_names, compute_time=expln.compute_time)\n",
    "\n",
    "def load_explanation(fname):\n",
    "    dat_dict = np.load(fname)\n",
    "    return fts.Explanation(values = dat_dict[\"values\"], base_values=dat_dict[\"base_values\"], \n",
    "                           data=dat_dict[\"data\"], feature_names=dat_dict[\"feature_names\"], \n",
    "                           output_names=dat_dict[\"output_names\"], \n",
    "                           compute_time=dat_dict[\"compute_time\"])"
   ]
  },
  {
   "cell_type": "code",
   "execution_count": 6,
   "id": "667b96ae-e4ca-4614-9f00-db76d37444c0",
   "metadata": {},
   "outputs": [],
   "source": [
    "# hack to blend multiple explanations together\n",
    "def stack_expln(expln1, expln2):\n",
    "    return fts.Explanation(values = np.vstack([expln1.values, expln2.values]), \n",
    "                             base_values = np.vstack([expln1.base_values, expln2.base_values]), \n",
    "                             data = np.vstack([expln1.data, expln2.data]),\n",
    "                             feature_names=expln1.feature_names,\n",
    "                            )"
   ]
  },
  {
   "cell_type": "code",
   "execution_count": 7,
   "id": "c36375de-56fc-4461-9747-b48edb46c3f1",
   "metadata": {},
   "outputs": [],
   "source": [
    "# load in needed RF, shap_explainer, and dataset\n",
    "rf, explainer = shpa.load_tools(\"FI_GEO_RFdat_AIMFAHR_forest.pkl\", n_jobs=NJOBS) #uncomment if you need to run model/explainer\n",
    "fgeo_col  = shpa.fgeo_col # data columns used in best-performing Murphy RF model\n",
    "full_data = shpa.load_data(all_cols=True, option=\"test_d\") # loads Grace B test data"
   ]
  },
  {
   "cell_type": "code",
   "execution_count": 8,
   "id": "172d84d8-4fd2-438c-87fd-d01b26ecd157",
   "metadata": {},
   "outputs": [],
   "source": [
    "# sort into more specific datasets\n",
    "storm_data = full_data[full_data['storm'] == 1]\n",
    "quiet_data = full_data[full_data['storm'] == -1]\n",
    "\n",
    "recovery_data = storm_data[storm_data[\"storm phase\"] == 2]\n",
    "mainphase_data = storm_data[storm_data[\"storm phase\"] == 1]\n",
    "\n",
    "sorted_data = full_data.sort_values(\"DateTime\")"
   ]
  },
  {
   "cell_type": "code",
   "execution_count": 9,
   "id": "41240229-4315-4a99-93e5-f60400300693",
   "metadata": {},
   "outputs": [],
   "source": [
    "pb = shpa.PolarBear(n_lat = 12, n_mlt = 24)"
   ]
  },
  {
   "cell_type": "markdown",
   "id": "8c7148b8-2de7-4b23-a9b6-9a6c10a44c82",
   "metadata": {},
   "source": [
    "## Summary of data"
   ]
  },
  {
   "cell_type": "code",
   "execution_count": 10,
   "id": "6aed955b-e11e-4db8-8786-1597694767c6",
   "metadata": {},
   "outputs": [
    {
     "data": {
      "text/plain": [
       "(271092, 14)"
      ]
     },
     "execution_count": 10,
     "metadata": {},
     "output_type": "execute_result"
    }
   ],
   "source": [
    "full_data.shape"
   ]
  },
  {
   "cell_type": "code",
   "execution_count": 25,
   "id": "a1ca399a-1a76-4d09-9f99-4153a2e6b434",
   "metadata": {
    "collapsed": true,
    "jupyter": {
     "outputs_hidden": true
    },
    "scrolled": true
   },
   "outputs": [
    {
     "data": {
      "text/html": [
       "<div>\n",
       "<style scoped>\n",
       "    .dataframe tbody tr th:only-of-type {\n",
       "        vertical-align: middle;\n",
       "    }\n",
       "\n",
       "    .dataframe tbody tr th {\n",
       "        vertical-align: top;\n",
       "    }\n",
       "\n",
       "    .dataframe thead th {\n",
       "        text-align: right;\n",
       "    }\n",
       "</style>\n",
       "<table border=\"1\" class=\"dataframe\">\n",
       "  <thead>\n",
       "    <tr style=\"text-align: right;\">\n",
       "      <th></th>\n",
       "      <th>1300_02</th>\n",
       "      <th>43000_09</th>\n",
       "      <th>85550_13</th>\n",
       "      <th>94400_18</th>\n",
       "      <th>SYM_H index</th>\n",
       "      <th>AE</th>\n",
       "      <th>SatLat</th>\n",
       "      <th>cos_SatMagLT</th>\n",
       "      <th>sin_SatMagLT</th>\n",
       "      <th>400kmDensity</th>\n",
       "      <th>DateTime</th>\n",
       "      <th>storm</th>\n",
       "      <th>storm phase</th>\n",
       "      <th>400kmDensity_pred</th>\n",
       "    </tr>\n",
       "  </thead>\n",
       "  <tbody>\n",
       "    <tr>\n",
       "      <th>count</th>\n",
       "      <td>271092.000000</td>\n",
       "      <td>271092.000000</td>\n",
       "      <td>271092.000000</td>\n",
       "      <td>271092.000000</td>\n",
       "      <td>271092.000000</td>\n",
       "      <td>271092.000000</td>\n",
       "      <td>271092.000000</td>\n",
       "      <td>271092.000000</td>\n",
       "      <td>271092.000000</td>\n",
       "      <td>271092.000000</td>\n",
       "      <td>271092</td>\n",
       "      <td>271092.000000</td>\n",
       "      <td>271092.000000</td>\n",
       "      <td>271092.000000</td>\n",
       "    </tr>\n",
       "    <tr>\n",
       "      <th>mean</th>\n",
       "      <td>7.187411</td>\n",
       "      <td>9.859163</td>\n",
       "      <td>9.434794</td>\n",
       "      <td>9.207575</td>\n",
       "      <td>-10.990863</td>\n",
       "      <td>171.890853</td>\n",
       "      <td>-0.151048</td>\n",
       "      <td>-0.000522</td>\n",
       "      <td>0.000385</td>\n",
       "      <td>1.308555</td>\n",
       "      <td>2007-06-11 12:51:30.882431488</td>\n",
       "      <td>0.103810</td>\n",
       "      <td>0.436759</td>\n",
       "      <td>1.308646</td>\n",
       "    </tr>\n",
       "    <tr>\n",
       "      <th>min</th>\n",
       "      <td>6.395051</td>\n",
       "      <td>9.715523</td>\n",
       "      <td>9.369749</td>\n",
       "      <td>9.147455</td>\n",
       "      <td>-469.000000</td>\n",
       "      <td>1.000000</td>\n",
       "      <td>-89.039360</td>\n",
       "      <td>-1.000000</td>\n",
       "      <td>-1.000000</td>\n",
       "      <td>0.002300</td>\n",
       "      <td>2003-01-01 00:30:00</td>\n",
       "      <td>-1.000000</td>\n",
       "      <td>-1.000000</td>\n",
       "      <td>0.066742</td>\n",
       "    </tr>\n",
       "    <tr>\n",
       "      <th>25%</th>\n",
       "      <td>6.826294</td>\n",
       "      <td>9.768229</td>\n",
       "      <td>9.392063</td>\n",
       "      <td>9.163332</td>\n",
       "      <td>-17.000000</td>\n",
       "      <td>38.000000</td>\n",
       "      <td>-45.065897</td>\n",
       "      <td>-0.695579</td>\n",
       "      <td>-0.719182</td>\n",
       "      <td>0.475864</td>\n",
       "      <td>2005-03-08 14:01:15</td>\n",
       "      <td>-1.000000</td>\n",
       "      <td>-1.000000</td>\n",
       "      <td>0.500467</td>\n",
       "    </tr>\n",
       "    <tr>\n",
       "      <th>50%</th>\n",
       "      <td>7.195337</td>\n",
       "      <td>9.832408</td>\n",
       "      <td>9.419841</td>\n",
       "      <td>9.189895</td>\n",
       "      <td>-8.000000</td>\n",
       "      <td>85.000000</td>\n",
       "      <td>-0.126290</td>\n",
       "      <td>-0.001545</td>\n",
       "      <td>-0.000995</td>\n",
       "      <td>0.907904</td>\n",
       "      <td>2007-05-09 07:35:00</td>\n",
       "      <td>1.000000</td>\n",
       "      <td>1.000000</td>\n",
       "      <td>0.935888</td>\n",
       "    </tr>\n",
       "    <tr>\n",
       "      <th>75%</th>\n",
       "      <td>7.536688</td>\n",
       "      <td>9.937945</td>\n",
       "      <td>9.472079</td>\n",
       "      <td>9.242422</td>\n",
       "      <td>-1.000000</td>\n",
       "      <td>228.000000</td>\n",
       "      <td>45.018620</td>\n",
       "      <td>0.693130</td>\n",
       "      <td>0.719841</td>\n",
       "      <td>1.738870</td>\n",
       "      <td>2009-07-05 17:37:30</td>\n",
       "      <td>1.000000</td>\n",
       "      <td>2.000000</td>\n",
       "      <td>1.767111</td>\n",
       "    </tr>\n",
       "    <tr>\n",
       "      <th>max</th>\n",
       "      <td>9.525276</td>\n",
       "      <td>26.979264</td>\n",
       "      <td>9.709964</td>\n",
       "      <td>31.735991</td>\n",
       "      <td>97.000000</td>\n",
       "      <td>3529.000000</td>\n",
       "      <td>89.036380</td>\n",
       "      <td>1.000000</td>\n",
       "      <td>1.000000</td>\n",
       "      <td>23.680800</td>\n",
       "      <td>2012-06-30 23:55:00</td>\n",
       "      <td>1.000000</td>\n",
       "      <td>2.000000</td>\n",
       "      <td>16.188876</td>\n",
       "    </tr>\n",
       "    <tr>\n",
       "      <th>std</th>\n",
       "      <td>0.394671</td>\n",
       "      <td>0.186431</td>\n",
       "      <td>0.048081</td>\n",
       "      <td>0.214995</td>\n",
       "      <td>18.554718</td>\n",
       "      <td>209.125574</td>\n",
       "      <td>52.010454</td>\n",
       "      <td>0.700119</td>\n",
       "      <td>0.714028</td>\n",
       "      <td>1.213174</td>\n",
       "      <td>NaN</td>\n",
       "      <td>0.994599</td>\n",
       "      <td>1.344655</td>\n",
       "      <td>1.141864</td>\n",
       "    </tr>\n",
       "  </tbody>\n",
       "</table>\n",
       "</div>"
      ],
      "text/plain": [
       "             1300_02       43000_09       85550_13       94400_18  \\\n",
       "count  271092.000000  271092.000000  271092.000000  271092.000000   \n",
       "mean        7.187411       9.859163       9.434794       9.207575   \n",
       "min         6.395051       9.715523       9.369749       9.147455   \n",
       "25%         6.826294       9.768229       9.392063       9.163332   \n",
       "50%         7.195337       9.832408       9.419841       9.189895   \n",
       "75%         7.536688       9.937945       9.472079       9.242422   \n",
       "max         9.525276      26.979264       9.709964      31.735991   \n",
       "std         0.394671       0.186431       0.048081       0.214995   \n",
       "\n",
       "         SYM_H index             AE         SatLat   cos_SatMagLT  \\\n",
       "count  271092.000000  271092.000000  271092.000000  271092.000000   \n",
       "mean      -10.990863     171.890853      -0.151048      -0.000522   \n",
       "min      -469.000000       1.000000     -89.039360      -1.000000   \n",
       "25%       -17.000000      38.000000     -45.065897      -0.695579   \n",
       "50%        -8.000000      85.000000      -0.126290      -0.001545   \n",
       "75%        -1.000000     228.000000      45.018620       0.693130   \n",
       "max        97.000000    3529.000000      89.036380       1.000000   \n",
       "std        18.554718     209.125574      52.010454       0.700119   \n",
       "\n",
       "        sin_SatMagLT   400kmDensity                       DateTime  \\\n",
       "count  271092.000000  271092.000000                         271092   \n",
       "mean        0.000385       1.308555  2007-06-11 12:51:30.882431488   \n",
       "min        -1.000000       0.002300            2003-01-01 00:30:00   \n",
       "25%        -0.719182       0.475864            2005-03-08 14:01:15   \n",
       "50%        -0.000995       0.907904            2007-05-09 07:35:00   \n",
       "75%         0.719841       1.738870            2009-07-05 17:37:30   \n",
       "max         1.000000      23.680800            2012-06-30 23:55:00   \n",
       "std         0.714028       1.213174                            NaN   \n",
       "\n",
       "               storm    storm phase  400kmDensity_pred  \n",
       "count  271092.000000  271092.000000      271092.000000  \n",
       "mean        0.103810       0.436759           1.308646  \n",
       "min        -1.000000      -1.000000           0.066742  \n",
       "25%        -1.000000      -1.000000           0.500467  \n",
       "50%         1.000000       1.000000           0.935888  \n",
       "75%         1.000000       2.000000           1.767111  \n",
       "max         1.000000       2.000000          16.188876  \n",
       "std         0.994599       1.344655           1.141864  "
      ]
     },
     "execution_count": 25,
     "metadata": {},
     "output_type": "execute_result"
    }
   ],
   "source": [
    "full_data.describe()"
   ]
  },
  {
   "cell_type": "code",
   "execution_count": 186,
   "id": "159b8cf9-c407-48a2-b23d-b4eb58edc6f9",
   "metadata": {},
   "outputs": [
    {
     "data": {
      "text/plain": [
       "(149617, 14)"
      ]
     },
     "execution_count": 186,
     "metadata": {},
     "output_type": "execute_result"
    }
   ],
   "source": [
    "storm_data.shape"
   ]
  },
  {
   "cell_type": "code",
   "execution_count": 26,
   "id": "72f2239a-5933-4ba4-85fc-6b802c82a4c5",
   "metadata": {
    "collapsed": true,
    "jupyter": {
     "outputs_hidden": true
    },
    "scrolled": true
   },
   "outputs": [
    {
     "data": {
      "text/html": [
       "<div>\n",
       "<style scoped>\n",
       "    .dataframe tbody tr th:only-of-type {\n",
       "        vertical-align: middle;\n",
       "    }\n",
       "\n",
       "    .dataframe tbody tr th {\n",
       "        vertical-align: top;\n",
       "    }\n",
       "\n",
       "    .dataframe thead th {\n",
       "        text-align: right;\n",
       "    }\n",
       "</style>\n",
       "<table border=\"1\" class=\"dataframe\">\n",
       "  <thead>\n",
       "    <tr style=\"text-align: right;\">\n",
       "      <th></th>\n",
       "      <th>1300_02</th>\n",
       "      <th>43000_09</th>\n",
       "      <th>85550_13</th>\n",
       "      <th>94400_18</th>\n",
       "      <th>SYM_H index</th>\n",
       "      <th>AE</th>\n",
       "      <th>SatLat</th>\n",
       "      <th>cos_SatMagLT</th>\n",
       "      <th>sin_SatMagLT</th>\n",
       "      <th>400kmDensity</th>\n",
       "      <th>DateTime</th>\n",
       "      <th>storm</th>\n",
       "      <th>storm phase</th>\n",
       "      <th>400kmDensity_pred</th>\n",
       "    </tr>\n",
       "  </thead>\n",
       "  <tbody>\n",
       "    <tr>\n",
       "      <th>count</th>\n",
       "      <td>149617.000000</td>\n",
       "      <td>149617.000000</td>\n",
       "      <td>149617.000000</td>\n",
       "      <td>149617.000000</td>\n",
       "      <td>149617.000000</td>\n",
       "      <td>149617.000000</td>\n",
       "      <td>149617.000000</td>\n",
       "      <td>149617.000000</td>\n",
       "      <td>149617.000000</td>\n",
       "      <td>149617.000000</td>\n",
       "      <td>149617</td>\n",
       "      <td>149617.0</td>\n",
       "      <td>149617.000000</td>\n",
       "      <td>149617.000000</td>\n",
       "    </tr>\n",
       "    <tr>\n",
       "      <th>mean</th>\n",
       "      <td>7.269417</td>\n",
       "      <td>9.880465</td>\n",
       "      <td>9.444359</td>\n",
       "      <td>9.218007</td>\n",
       "      <td>-15.788460</td>\n",
       "      <td>226.351150</td>\n",
       "      <td>-0.175444</td>\n",
       "      <td>-0.001048</td>\n",
       "      <td>0.001413</td>\n",
       "      <td>1.537729</td>\n",
       "      <td>2006-10-22 07:55:03.559087616</td>\n",
       "      <td>1.0</td>\n",
       "      <td>1.603274</td>\n",
       "      <td>1.534656</td>\n",
       "    </tr>\n",
       "    <tr>\n",
       "      <th>min</th>\n",
       "      <td>6.449483</td>\n",
       "      <td>9.730360</td>\n",
       "      <td>9.376063</td>\n",
       "      <td>9.148476</td>\n",
       "      <td>-469.000000</td>\n",
       "      <td>1.000000</td>\n",
       "      <td>-89.038290</td>\n",
       "      <td>-1.000000</td>\n",
       "      <td>-1.000000</td>\n",
       "      <td>0.003382</td>\n",
       "      <td>2003-01-01 00:30:00</td>\n",
       "      <td>1.0</td>\n",
       "      <td>1.000000</td>\n",
       "      <td>0.071081</td>\n",
       "    </tr>\n",
       "    <tr>\n",
       "      <th>25%</th>\n",
       "      <td>6.967100</td>\n",
       "      <td>9.791568</td>\n",
       "      <td>9.401458</td>\n",
       "      <td>9.171335</td>\n",
       "      <td>-24.000000</td>\n",
       "      <td>52.000000</td>\n",
       "      <td>-45.074290</td>\n",
       "      <td>-0.684184</td>\n",
       "      <td>-0.729076</td>\n",
       "      <td>0.621265</td>\n",
       "      <td>2004-07-20 04:40:00</td>\n",
       "      <td>1.0</td>\n",
       "      <td>1.000000</td>\n",
       "      <td>0.646251</td>\n",
       "    </tr>\n",
       "    <tr>\n",
       "      <th>50%</th>\n",
       "      <td>7.342521</td>\n",
       "      <td>9.869430</td>\n",
       "      <td>9.436674</td>\n",
       "      <td>9.204232</td>\n",
       "      <td>-13.000000</td>\n",
       "      <td>136.000000</td>\n",
       "      <td>-0.176620</td>\n",
       "      <td>-0.001178</td>\n",
       "      <td>0.001990</td>\n",
       "      <td>1.146216</td>\n",
       "      <td>2006-06-16 19:05:00</td>\n",
       "      <td>1.0</td>\n",
       "      <td>2.000000</td>\n",
       "      <td>1.183950</td>\n",
       "    </tr>\n",
       "    <tr>\n",
       "      <th>75%</th>\n",
       "      <td>7.590228</td>\n",
       "      <td>9.957018</td>\n",
       "      <td>9.482035</td>\n",
       "      <td>9.253163</td>\n",
       "      <td>-4.000000</td>\n",
       "      <td>322.000000</td>\n",
       "      <td>45.003660</td>\n",
       "      <td>0.682388</td>\n",
       "      <td>0.731258</td>\n",
       "      <td>2.082349</td>\n",
       "      <td>2008-08-10 10:05:00</td>\n",
       "      <td>1.0</td>\n",
       "      <td>2.000000</td>\n",
       "      <td>2.103849</td>\n",
       "    </tr>\n",
       "    <tr>\n",
       "      <th>max</th>\n",
       "      <td>9.525276</td>\n",
       "      <td>26.979264</td>\n",
       "      <td>9.709964</td>\n",
       "      <td>31.735991</td>\n",
       "      <td>97.000000</td>\n",
       "      <td>3529.000000</td>\n",
       "      <td>89.031520</td>\n",
       "      <td>1.000000</td>\n",
       "      <td>1.000000</td>\n",
       "      <td>23.680800</td>\n",
       "      <td>2012-06-22 03:40:00</td>\n",
       "      <td>1.0</td>\n",
       "      <td>2.000000</td>\n",
       "      <td>16.188876</td>\n",
       "    </tr>\n",
       "    <tr>\n",
       "      <th>std</th>\n",
       "      <td>0.380843</td>\n",
       "      <td>0.234827</td>\n",
       "      <td>0.048743</td>\n",
       "      <td>0.286155</td>\n",
       "      <td>22.304878</td>\n",
       "      <td>242.094674</td>\n",
       "      <td>51.982336</td>\n",
       "      <td>0.695019</td>\n",
       "      <td>0.718994</td>\n",
       "      <td>1.288445</td>\n",
       "      <td>NaN</td>\n",
       "      <td>0.0</td>\n",
       "      <td>0.489220</td>\n",
       "      <td>1.200584</td>\n",
       "    </tr>\n",
       "  </tbody>\n",
       "</table>\n",
       "</div>"
      ],
      "text/plain": [
       "             1300_02       43000_09       85550_13       94400_18  \\\n",
       "count  149617.000000  149617.000000  149617.000000  149617.000000   \n",
       "mean        7.269417       9.880465       9.444359       9.218007   \n",
       "min         6.449483       9.730360       9.376063       9.148476   \n",
       "25%         6.967100       9.791568       9.401458       9.171335   \n",
       "50%         7.342521       9.869430       9.436674       9.204232   \n",
       "75%         7.590228       9.957018       9.482035       9.253163   \n",
       "max         9.525276      26.979264       9.709964      31.735991   \n",
       "std         0.380843       0.234827       0.048743       0.286155   \n",
       "\n",
       "         SYM_H index             AE         SatLat   cos_SatMagLT  \\\n",
       "count  149617.000000  149617.000000  149617.000000  149617.000000   \n",
       "mean      -15.788460     226.351150      -0.175444      -0.001048   \n",
       "min      -469.000000       1.000000     -89.038290      -1.000000   \n",
       "25%       -24.000000      52.000000     -45.074290      -0.684184   \n",
       "50%       -13.000000     136.000000      -0.176620      -0.001178   \n",
       "75%        -4.000000     322.000000      45.003660       0.682388   \n",
       "max        97.000000    3529.000000      89.031520       1.000000   \n",
       "std        22.304878     242.094674      51.982336       0.695019   \n",
       "\n",
       "        sin_SatMagLT   400kmDensity                       DateTime     storm  \\\n",
       "count  149617.000000  149617.000000                         149617  149617.0   \n",
       "mean        0.001413       1.537729  2006-10-22 07:55:03.559087616       1.0   \n",
       "min        -1.000000       0.003382            2003-01-01 00:30:00       1.0   \n",
       "25%        -0.729076       0.621265            2004-07-20 04:40:00       1.0   \n",
       "50%         0.001990       1.146216            2006-06-16 19:05:00       1.0   \n",
       "75%         0.731258       2.082349            2008-08-10 10:05:00       1.0   \n",
       "max         1.000000      23.680800            2012-06-22 03:40:00       1.0   \n",
       "std         0.718994       1.288445                            NaN       0.0   \n",
       "\n",
       "         storm phase  400kmDensity_pred  \n",
       "count  149617.000000      149617.000000  \n",
       "mean        1.603274           1.534656  \n",
       "min         1.000000           0.071081  \n",
       "25%         1.000000           0.646251  \n",
       "50%         2.000000           1.183950  \n",
       "75%         2.000000           2.103849  \n",
       "max         2.000000          16.188876  \n",
       "std         0.489220           1.200584  "
      ]
     },
     "execution_count": 26,
     "metadata": {},
     "output_type": "execute_result"
    }
   ],
   "source": [
    "storm_data.describe()"
   ]
  },
  {
   "cell_type": "code",
   "execution_count": 187,
   "id": "1142c4a2-828e-4e19-92c9-9e74b679775b",
   "metadata": {},
   "outputs": [
    {
     "data": {
      "text/plain": [
       "(121475, 14)"
      ]
     },
     "execution_count": 187,
     "metadata": {},
     "output_type": "execute_result"
    }
   ],
   "source": [
    "quiet_data.shape"
   ]
  },
  {
   "cell_type": "code",
   "execution_count": 27,
   "id": "299b88d5-55ed-4957-9676-8121753e0662",
   "metadata": {
    "collapsed": true,
    "jupyter": {
     "outputs_hidden": true
    }
   },
   "outputs": [
    {
     "data": {
      "text/html": [
       "<div>\n",
       "<style scoped>\n",
       "    .dataframe tbody tr th:only-of-type {\n",
       "        vertical-align: middle;\n",
       "    }\n",
       "\n",
       "    .dataframe tbody tr th {\n",
       "        vertical-align: top;\n",
       "    }\n",
       "\n",
       "    .dataframe thead th {\n",
       "        text-align: right;\n",
       "    }\n",
       "</style>\n",
       "<table border=\"1\" class=\"dataframe\">\n",
       "  <thead>\n",
       "    <tr style=\"text-align: right;\">\n",
       "      <th></th>\n",
       "      <th>1300_02</th>\n",
       "      <th>43000_09</th>\n",
       "      <th>85550_13</th>\n",
       "      <th>94400_18</th>\n",
       "      <th>SYM_H index</th>\n",
       "      <th>AE</th>\n",
       "      <th>SatLat</th>\n",
       "      <th>cos_SatMagLT</th>\n",
       "      <th>sin_SatMagLT</th>\n",
       "      <th>400kmDensity</th>\n",
       "      <th>DateTime</th>\n",
       "      <th>storm</th>\n",
       "      <th>storm phase</th>\n",
       "      <th>400kmDensity_pred</th>\n",
       "    </tr>\n",
       "  </thead>\n",
       "  <tbody>\n",
       "    <tr>\n",
       "      <th>count</th>\n",
       "      <td>121475.000000</td>\n",
       "      <td>121475.000000</td>\n",
       "      <td>121475.000000</td>\n",
       "      <td>121475.000000</td>\n",
       "      <td>121475.000000</td>\n",
       "      <td>121475.000000</td>\n",
       "      <td>121475.000000</td>\n",
       "      <td>121475.000000</td>\n",
       "      <td>121475.000000</td>\n",
       "      <td>121475.000000</td>\n",
       "      <td>121475</td>\n",
       "      <td>121475.0</td>\n",
       "      <td>121475.0</td>\n",
       "      <td>121475.000000</td>\n",
       "    </tr>\n",
       "    <tr>\n",
       "      <th>mean</th>\n",
       "      <td>7.086407</td>\n",
       "      <td>9.832926</td>\n",
       "      <td>9.423013</td>\n",
       "      <td>9.194726</td>\n",
       "      <td>-5.081811</td>\n",
       "      <td>104.813789</td>\n",
       "      <td>-0.121001</td>\n",
       "      <td>0.000125</td>\n",
       "      <td>-0.000882</td>\n",
       "      <td>1.026288</td>\n",
       "      <td>2008-03-23 12:52:39.106811904</td>\n",
       "      <td>-1.0</td>\n",
       "      <td>-1.0</td>\n",
       "      <td>1.030277</td>\n",
       "    </tr>\n",
       "    <tr>\n",
       "      <th>min</th>\n",
       "      <td>6.395051</td>\n",
       "      <td>9.715523</td>\n",
       "      <td>9.369749</td>\n",
       "      <td>9.147455</td>\n",
       "      <td>-81.000000</td>\n",
       "      <td>2.000000</td>\n",
       "      <td>-89.039360</td>\n",
       "      <td>-1.000000</td>\n",
       "      <td>-1.000000</td>\n",
       "      <td>0.002300</td>\n",
       "      <td>2003-01-05 07:30:00</td>\n",
       "      <td>-1.0</td>\n",
       "      <td>-1.0</td>\n",
       "      <td>0.066742</td>\n",
       "    </tr>\n",
       "    <tr>\n",
       "      <th>25%</th>\n",
       "      <td>6.745853</td>\n",
       "      <td>9.752132</td>\n",
       "      <td>9.385549</td>\n",
       "      <td>9.157656</td>\n",
       "      <td>-10.000000</td>\n",
       "      <td>29.000000</td>\n",
       "      <td>-45.058305</td>\n",
       "      <td>-0.708826</td>\n",
       "      <td>-0.706903</td>\n",
       "      <td>0.362907</td>\n",
       "      <td>2006-03-28 12:47:30</td>\n",
       "      <td>-1.0</td>\n",
       "      <td>-1.0</td>\n",
       "      <td>0.390073</td>\n",
       "    </tr>\n",
       "    <tr>\n",
       "      <th>50%</th>\n",
       "      <td>7.040624</td>\n",
       "      <td>9.806662</td>\n",
       "      <td>9.408161</td>\n",
       "      <td>9.178545</td>\n",
       "      <td>-4.000000</td>\n",
       "      <td>54.000000</td>\n",
       "      <td>-0.087800</td>\n",
       "      <td>-0.002068</td>\n",
       "      <td>-0.003351</td>\n",
       "      <td>0.679256</td>\n",
       "      <td>2008-07-07 17:25:00</td>\n",
       "      <td>-1.0</td>\n",
       "      <td>-1.0</td>\n",
       "      <td>0.693351</td>\n",
       "    </tr>\n",
       "    <tr>\n",
       "      <th>75%</th>\n",
       "      <td>7.430072</td>\n",
       "      <td>9.909953</td>\n",
       "      <td>9.455955</td>\n",
       "      <td>9.226672</td>\n",
       "      <td>1.000000</td>\n",
       "      <td>126.000000</td>\n",
       "      <td>45.031140</td>\n",
       "      <td>0.708133</td>\n",
       "      <td>0.704482</td>\n",
       "      <td>1.276441</td>\n",
       "      <td>2009-12-10 05:37:30</td>\n",
       "      <td>-1.0</td>\n",
       "      <td>-1.0</td>\n",
       "      <td>1.289399</td>\n",
       "    </tr>\n",
       "    <tr>\n",
       "      <th>max</th>\n",
       "      <td>8.489174</td>\n",
       "      <td>10.141226</td>\n",
       "      <td>9.609864</td>\n",
       "      <td>9.370111</td>\n",
       "      <td>55.000000</td>\n",
       "      <td>1991.000000</td>\n",
       "      <td>89.036380</td>\n",
       "      <td>1.000000</td>\n",
       "      <td>1.000000</td>\n",
       "      <td>10.075200</td>\n",
       "      <td>2012-06-30 23:55:00</td>\n",
       "      <td>-1.0</td>\n",
       "      <td>-1.0</td>\n",
       "      <td>8.354893</td>\n",
       "    </tr>\n",
       "    <tr>\n",
       "      <th>std</th>\n",
       "      <td>0.387929</td>\n",
       "      <td>0.091646</td>\n",
       "      <td>0.044511</td>\n",
       "      <td>0.044726</td>\n",
       "      <td>9.606497</td>\n",
       "      <td>131.372336</td>\n",
       "      <td>52.045264</td>\n",
       "      <td>0.706352</td>\n",
       "      <td>0.707866</td>\n",
       "      <td>1.046669</td>\n",
       "      <td>NaN</td>\n",
       "      <td>0.0</td>\n",
       "      <td>0.0</td>\n",
       "      <td>0.997017</td>\n",
       "    </tr>\n",
       "  </tbody>\n",
       "</table>\n",
       "</div>"
      ],
      "text/plain": [
       "             1300_02       43000_09       85550_13       94400_18  \\\n",
       "count  121475.000000  121475.000000  121475.000000  121475.000000   \n",
       "mean        7.086407       9.832926       9.423013       9.194726   \n",
       "min         6.395051       9.715523       9.369749       9.147455   \n",
       "25%         6.745853       9.752132       9.385549       9.157656   \n",
       "50%         7.040624       9.806662       9.408161       9.178545   \n",
       "75%         7.430072       9.909953       9.455955       9.226672   \n",
       "max         8.489174      10.141226       9.609864       9.370111   \n",
       "std         0.387929       0.091646       0.044511       0.044726   \n",
       "\n",
       "         SYM_H index             AE         SatLat   cos_SatMagLT  \\\n",
       "count  121475.000000  121475.000000  121475.000000  121475.000000   \n",
       "mean       -5.081811     104.813789      -0.121001       0.000125   \n",
       "min       -81.000000       2.000000     -89.039360      -1.000000   \n",
       "25%       -10.000000      29.000000     -45.058305      -0.708826   \n",
       "50%        -4.000000      54.000000      -0.087800      -0.002068   \n",
       "75%         1.000000     126.000000      45.031140       0.708133   \n",
       "max        55.000000    1991.000000      89.036380       1.000000   \n",
       "std         9.606497     131.372336      52.045264       0.706352   \n",
       "\n",
       "        sin_SatMagLT   400kmDensity                       DateTime     storm  \\\n",
       "count  121475.000000  121475.000000                         121475  121475.0   \n",
       "mean       -0.000882       1.026288  2008-03-23 12:52:39.106811904      -1.0   \n",
       "min        -1.000000       0.002300            2003-01-05 07:30:00      -1.0   \n",
       "25%        -0.706903       0.362907            2006-03-28 12:47:30      -1.0   \n",
       "50%        -0.003351       0.679256            2008-07-07 17:25:00      -1.0   \n",
       "75%         0.704482       1.276441            2009-12-10 05:37:30      -1.0   \n",
       "max         1.000000      10.075200            2012-06-30 23:55:00      -1.0   \n",
       "std         0.707866       1.046669                            NaN       0.0   \n",
       "\n",
       "       storm phase  400kmDensity_pred  \n",
       "count     121475.0      121475.000000  \n",
       "mean          -1.0           1.030277  \n",
       "min           -1.0           0.066742  \n",
       "25%           -1.0           0.390073  \n",
       "50%           -1.0           0.693351  \n",
       "75%           -1.0           1.289399  \n",
       "max           -1.0           8.354893  \n",
       "std            0.0           0.997017  "
      ]
     },
     "execution_count": 27,
     "metadata": {},
     "output_type": "execute_result"
    }
   ],
   "source": [
    "quiet_data.describe()"
   ]
  },
  {
   "cell_type": "code",
   "execution_count": 28,
   "id": "6d95e128-e2d7-45be-a0da-b8ba2d83d1dc",
   "metadata": {
    "collapsed": true,
    "jupyter": {
     "outputs_hidden": true
    }
   },
   "outputs": [
    {
     "data": {
      "text/html": [
       "<div>\n",
       "<style scoped>\n",
       "    .dataframe tbody tr th:only-of-type {\n",
       "        vertical-align: middle;\n",
       "    }\n",
       "\n",
       "    .dataframe tbody tr th {\n",
       "        vertical-align: top;\n",
       "    }\n",
       "\n",
       "    .dataframe thead th {\n",
       "        text-align: right;\n",
       "    }\n",
       "</style>\n",
       "<table border=\"1\" class=\"dataframe\">\n",
       "  <thead>\n",
       "    <tr style=\"text-align: right;\">\n",
       "      <th></th>\n",
       "      <th>1300_02</th>\n",
       "      <th>43000_09</th>\n",
       "      <th>85550_13</th>\n",
       "      <th>94400_18</th>\n",
       "      <th>SYM_H index</th>\n",
       "      <th>AE</th>\n",
       "      <th>SatLat</th>\n",
       "      <th>cos_SatMagLT</th>\n",
       "      <th>sin_SatMagLT</th>\n",
       "      <th>400kmDensity</th>\n",
       "      <th>DateTime</th>\n",
       "      <th>storm</th>\n",
       "      <th>storm phase</th>\n",
       "      <th>400kmDensity_pred</th>\n",
       "    </tr>\n",
       "  </thead>\n",
       "  <tbody>\n",
       "    <tr>\n",
       "      <th>count</th>\n",
       "      <td>59357.000000</td>\n",
       "      <td>59357.000000</td>\n",
       "      <td>59357.000000</td>\n",
       "      <td>59357.000000</td>\n",
       "      <td>59357.000000</td>\n",
       "      <td>59357.000000</td>\n",
       "      <td>59357.000000</td>\n",
       "      <td>59357.000000</td>\n",
       "      <td>59357.000000</td>\n",
       "      <td>59357.000000</td>\n",
       "      <td>59357</td>\n",
       "      <td>59357.0</td>\n",
       "      <td>59357.0</td>\n",
       "      <td>59357.000000</td>\n",
       "    </tr>\n",
       "    <tr>\n",
       "      <th>mean</th>\n",
       "      <td>7.291208</td>\n",
       "      <td>9.882281</td>\n",
       "      <td>9.446647</td>\n",
       "      <td>9.216659</td>\n",
       "      <td>-8.327661</td>\n",
       "      <td>219.015584</td>\n",
       "      <td>-0.178185</td>\n",
       "      <td>-0.002439</td>\n",
       "      <td>-0.002205</td>\n",
       "      <td>1.533563</td>\n",
       "      <td>2006-10-11 10:18:27.549235968</td>\n",
       "      <td>1.0</td>\n",
       "      <td>1.0</td>\n",
       "      <td>1.522400</td>\n",
       "    </tr>\n",
       "    <tr>\n",
       "      <th>min</th>\n",
       "      <td>6.450426</td>\n",
       "      <td>9.730360</td>\n",
       "      <td>9.376622</td>\n",
       "      <td>9.148476</td>\n",
       "      <td>-469.000000</td>\n",
       "      <td>1.000000</td>\n",
       "      <td>-89.037770</td>\n",
       "      <td>-1.000000</td>\n",
       "      <td>-1.000000</td>\n",
       "      <td>0.009020</td>\n",
       "      <td>2003-01-01 05:05:00</td>\n",
       "      <td>1.0</td>\n",
       "      <td>1.0</td>\n",
       "      <td>0.071081</td>\n",
       "    </tr>\n",
       "    <tr>\n",
       "      <th>25%</th>\n",
       "      <td>6.999895</td>\n",
       "      <td>9.793853</td>\n",
       "      <td>9.402021</td>\n",
       "      <td>9.172416</td>\n",
       "      <td>-15.000000</td>\n",
       "      <td>44.000000</td>\n",
       "      <td>-45.289520</td>\n",
       "      <td>-0.691708</td>\n",
       "      <td>-0.728395</td>\n",
       "      <td>0.589399</td>\n",
       "      <td>2004-05-28 03:45:00</td>\n",
       "      <td>1.0</td>\n",
       "      <td>1.0</td>\n",
       "      <td>0.621803</td>\n",
       "    </tr>\n",
       "    <tr>\n",
       "      <th>50%</th>\n",
       "      <td>7.367244</td>\n",
       "      <td>9.881559</td>\n",
       "      <td>9.443245</td>\n",
       "      <td>9.211713</td>\n",
       "      <td>-5.000000</td>\n",
       "      <td>107.000000</td>\n",
       "      <td>-0.087390</td>\n",
       "      <td>-0.003508</td>\n",
       "      <td>-0.002906</td>\n",
       "      <td>1.126245</td>\n",
       "      <td>2006-05-17 22:15:00</td>\n",
       "      <td>1.0</td>\n",
       "      <td>1.0</td>\n",
       "      <td>1.159533</td>\n",
       "    </tr>\n",
       "    <tr>\n",
       "      <th>75%</th>\n",
       "      <td>7.604260</td>\n",
       "      <td>9.963187</td>\n",
       "      <td>9.485718</td>\n",
       "      <td>9.256993</td>\n",
       "      <td>3.000000</td>\n",
       "      <td>307.000000</td>\n",
       "      <td>45.039420</td>\n",
       "      <td>0.685405</td>\n",
       "      <td>0.722883</td>\n",
       "      <td>2.096799</td>\n",
       "      <td>2008-09-30 12:05:00</td>\n",
       "      <td>1.0</td>\n",
       "      <td>1.0</td>\n",
       "      <td>2.089964</td>\n",
       "    </tr>\n",
       "    <tr>\n",
       "      <th>max</th>\n",
       "      <td>8.981911</td>\n",
       "      <td>10.350459</td>\n",
       "      <td>9.648032</td>\n",
       "      <td>9.460077</td>\n",
       "      <td>97.000000</td>\n",
       "      <td>3529.000000</td>\n",
       "      <td>89.029860</td>\n",
       "      <td>1.000000</td>\n",
       "      <td>1.000000</td>\n",
       "      <td>23.680800</td>\n",
       "      <td>2012-06-17 12:30:00</td>\n",
       "      <td>1.0</td>\n",
       "      <td>1.0</td>\n",
       "      <td>16.188876</td>\n",
       "    </tr>\n",
       "    <tr>\n",
       "      <th>std</th>\n",
       "      <td>0.375779</td>\n",
       "      <td>0.098472</td>\n",
       "      <td>0.048865</td>\n",
       "      <td>0.048023</td>\n",
       "      <td>21.863546</td>\n",
       "      <td>260.385554</td>\n",
       "      <td>52.089084</td>\n",
       "      <td>0.696866</td>\n",
       "      <td>0.717206</td>\n",
       "      <td>1.329464</td>\n",
       "      <td>NaN</td>\n",
       "      <td>0.0</td>\n",
       "      <td>0.0</td>\n",
       "      <td>1.233295</td>\n",
       "    </tr>\n",
       "  </tbody>\n",
       "</table>\n",
       "</div>"
      ],
      "text/plain": [
       "            1300_02      43000_09      85550_13      94400_18   SYM_H index  \\\n",
       "count  59357.000000  59357.000000  59357.000000  59357.000000  59357.000000   \n",
       "mean       7.291208      9.882281      9.446647      9.216659     -8.327661   \n",
       "min        6.450426      9.730360      9.376622      9.148476   -469.000000   \n",
       "25%        6.999895      9.793853      9.402021      9.172416    -15.000000   \n",
       "50%        7.367244      9.881559      9.443245      9.211713     -5.000000   \n",
       "75%        7.604260      9.963187      9.485718      9.256993      3.000000   \n",
       "max        8.981911     10.350459      9.648032      9.460077     97.000000   \n",
       "std        0.375779      0.098472      0.048865      0.048023     21.863546   \n",
       "\n",
       "                 AE        SatLat  cos_SatMagLT  sin_SatMagLT  400kmDensity  \\\n",
       "count  59357.000000  59357.000000  59357.000000  59357.000000  59357.000000   \n",
       "mean     219.015584     -0.178185     -0.002439     -0.002205      1.533563   \n",
       "min        1.000000    -89.037770     -1.000000     -1.000000      0.009020   \n",
       "25%       44.000000    -45.289520     -0.691708     -0.728395      0.589399   \n",
       "50%      107.000000     -0.087390     -0.003508     -0.002906      1.126245   \n",
       "75%      307.000000     45.039420      0.685405      0.722883      2.096799   \n",
       "max     3529.000000     89.029860      1.000000      1.000000     23.680800   \n",
       "std      260.385554     52.089084      0.696866      0.717206      1.329464   \n",
       "\n",
       "                            DateTime    storm  storm phase  400kmDensity_pred  \n",
       "count                          59357  59357.0      59357.0       59357.000000  \n",
       "mean   2006-10-11 10:18:27.549235968      1.0          1.0           1.522400  \n",
       "min              2003-01-01 05:05:00      1.0          1.0           0.071081  \n",
       "25%              2004-05-28 03:45:00      1.0          1.0           0.621803  \n",
       "50%              2006-05-17 22:15:00      1.0          1.0           1.159533  \n",
       "75%              2008-09-30 12:05:00      1.0          1.0           2.089964  \n",
       "max              2012-06-17 12:30:00      1.0          1.0          16.188876  \n",
       "std                              NaN      0.0          0.0           1.233295  "
      ]
     },
     "execution_count": 28,
     "metadata": {},
     "output_type": "execute_result"
    }
   ],
   "source": [
    "mainphase_data.describe()"
   ]
  },
  {
   "cell_type": "code",
   "execution_count": 29,
   "id": "d1f9dbaa-c0c8-4c79-8e5f-f508d1b7bccf",
   "metadata": {
    "collapsed": true,
    "jupyter": {
     "outputs_hidden": true
    },
    "scrolled": true
   },
   "outputs": [
    {
     "data": {
      "text/html": [
       "<div>\n",
       "<style scoped>\n",
       "    .dataframe tbody tr th:only-of-type {\n",
       "        vertical-align: middle;\n",
       "    }\n",
       "\n",
       "    .dataframe tbody tr th {\n",
       "        vertical-align: top;\n",
       "    }\n",
       "\n",
       "    .dataframe thead th {\n",
       "        text-align: right;\n",
       "    }\n",
       "</style>\n",
       "<table border=\"1\" class=\"dataframe\">\n",
       "  <thead>\n",
       "    <tr style=\"text-align: right;\">\n",
       "      <th></th>\n",
       "      <th>1300_02</th>\n",
       "      <th>43000_09</th>\n",
       "      <th>85550_13</th>\n",
       "      <th>94400_18</th>\n",
       "      <th>SYM_H index</th>\n",
       "      <th>AE</th>\n",
       "      <th>SatLat</th>\n",
       "      <th>cos_SatMagLT</th>\n",
       "      <th>sin_SatMagLT</th>\n",
       "      <th>400kmDensity</th>\n",
       "      <th>DateTime</th>\n",
       "      <th>storm</th>\n",
       "      <th>storm phase</th>\n",
       "      <th>400kmDensity_pred</th>\n",
       "    </tr>\n",
       "  </thead>\n",
       "  <tbody>\n",
       "    <tr>\n",
       "      <th>count</th>\n",
       "      <td>90260.000000</td>\n",
       "      <td>90260.000000</td>\n",
       "      <td>90260.000000</td>\n",
       "      <td>90260.000000</td>\n",
       "      <td>90260.000000</td>\n",
       "      <td>90260.000000</td>\n",
       "      <td>90260.000000</td>\n",
       "      <td>90260.000000</td>\n",
       "      <td>90260.000000</td>\n",
       "      <td>90260.000000</td>\n",
       "      <td>90260</td>\n",
       "      <td>90260.0</td>\n",
       "      <td>90260.0</td>\n",
       "      <td>90260.000000</td>\n",
       "    </tr>\n",
       "    <tr>\n",
       "      <th>mean</th>\n",
       "      <td>7.255086</td>\n",
       "      <td>9.879271</td>\n",
       "      <td>9.442855</td>\n",
       "      <td>9.218894</td>\n",
       "      <td>-20.694848</td>\n",
       "      <td>231.175183</td>\n",
       "      <td>-0.173640</td>\n",
       "      <td>-0.000133</td>\n",
       "      <td>0.003792</td>\n",
       "      <td>1.540468</td>\n",
       "      <td>2006-10-29 11:57:29.734101504</td>\n",
       "      <td>1.0</td>\n",
       "      <td>2.0</td>\n",
       "      <td>1.542716</td>\n",
       "    </tr>\n",
       "    <tr>\n",
       "      <th>min</th>\n",
       "      <td>6.449483</td>\n",
       "      <td>9.731566</td>\n",
       "      <td>9.376063</td>\n",
       "      <td>9.149251</td>\n",
       "      <td>-426.000000</td>\n",
       "      <td>1.000000</td>\n",
       "      <td>-89.038290</td>\n",
       "      <td>-1.000000</td>\n",
       "      <td>-1.000000</td>\n",
       "      <td>0.003382</td>\n",
       "      <td>2003-01-01 00:30:00</td>\n",
       "      <td>1.0</td>\n",
       "      <td>2.0</td>\n",
       "      <td>0.097776</td>\n",
       "    </tr>\n",
       "    <tr>\n",
       "      <th>25%</th>\n",
       "      <td>6.944725</td>\n",
       "      <td>9.790106</td>\n",
       "      <td>9.401117</td>\n",
       "      <td>9.170291</td>\n",
       "      <td>-27.000000</td>\n",
       "      <td>61.000000</td>\n",
       "      <td>-45.042732</td>\n",
       "      <td>-0.680404</td>\n",
       "      <td>-0.729430</td>\n",
       "      <td>0.640422</td>\n",
       "      <td>2004-07-29 14:12:30</td>\n",
       "      <td>1.0</td>\n",
       "      <td>2.0</td>\n",
       "      <td>0.663336</td>\n",
       "    </tr>\n",
       "    <tr>\n",
       "      <th>50%</th>\n",
       "      <td>7.310173</td>\n",
       "      <td>9.862970</td>\n",
       "      <td>9.433119</td>\n",
       "      <td>9.201211</td>\n",
       "      <td>-17.000000</td>\n",
       "      <td>153.000000</td>\n",
       "      <td>-0.241530</td>\n",
       "      <td>0.000497</td>\n",
       "      <td>0.006021</td>\n",
       "      <td>1.159604</td>\n",
       "      <td>2006-07-06 15:07:30</td>\n",
       "      <td>1.0</td>\n",
       "      <td>2.0</td>\n",
       "      <td>1.196680</td>\n",
       "    </tr>\n",
       "    <tr>\n",
       "      <th>75%</th>\n",
       "      <td>7.572505</td>\n",
       "      <td>9.952420</td>\n",
       "      <td>9.479378</td>\n",
       "      <td>9.250661</td>\n",
       "      <td>-9.000000</td>\n",
       "      <td>330.000000</td>\n",
       "      <td>44.975295</td>\n",
       "      <td>0.680126</td>\n",
       "      <td>0.736615</td>\n",
       "      <td>2.071376</td>\n",
       "      <td>2008-07-12 23:56:15</td>\n",
       "      <td>1.0</td>\n",
       "      <td>2.0</td>\n",
       "      <td>2.113241</td>\n",
       "    </tr>\n",
       "    <tr>\n",
       "      <th>max</th>\n",
       "      <td>9.525276</td>\n",
       "      <td>26.979264</td>\n",
       "      <td>9.709964</td>\n",
       "      <td>31.735991</td>\n",
       "      <td>64.000000</td>\n",
       "      <td>2966.000000</td>\n",
       "      <td>89.031520</td>\n",
       "      <td>1.000000</td>\n",
       "      <td>1.000000</td>\n",
       "      <td>21.392240</td>\n",
       "      <td>2012-06-22 03:40:00</td>\n",
       "      <td>1.0</td>\n",
       "      <td>2.0</td>\n",
       "      <td>15.355804</td>\n",
       "    </tr>\n",
       "    <tr>\n",
       "      <th>std</th>\n",
       "      <td>0.383465</td>\n",
       "      <td>0.291595</td>\n",
       "      <td>0.048605</td>\n",
       "      <td>0.366355</td>\n",
       "      <td>21.205026</td>\n",
       "      <td>229.145755</td>\n",
       "      <td>51.912306</td>\n",
       "      <td>0.693805</td>\n",
       "      <td>0.720161</td>\n",
       "      <td>1.260742</td>\n",
       "      <td>NaN</td>\n",
       "      <td>0.0</td>\n",
       "      <td>0.0</td>\n",
       "      <td>1.178516</td>\n",
       "    </tr>\n",
       "  </tbody>\n",
       "</table>\n",
       "</div>"
      ],
      "text/plain": [
       "            1300_02      43000_09      85550_13      94400_18   SYM_H index  \\\n",
       "count  90260.000000  90260.000000  90260.000000  90260.000000  90260.000000   \n",
       "mean       7.255086      9.879271      9.442855      9.218894    -20.694848   \n",
       "min        6.449483      9.731566      9.376063      9.149251   -426.000000   \n",
       "25%        6.944725      9.790106      9.401117      9.170291    -27.000000   \n",
       "50%        7.310173      9.862970      9.433119      9.201211    -17.000000   \n",
       "75%        7.572505      9.952420      9.479378      9.250661     -9.000000   \n",
       "max        9.525276     26.979264      9.709964     31.735991     64.000000   \n",
       "std        0.383465      0.291595      0.048605      0.366355     21.205026   \n",
       "\n",
       "                 AE        SatLat  cos_SatMagLT  sin_SatMagLT  400kmDensity  \\\n",
       "count  90260.000000  90260.000000  90260.000000  90260.000000  90260.000000   \n",
       "mean     231.175183     -0.173640     -0.000133      0.003792      1.540468   \n",
       "min        1.000000    -89.038290     -1.000000     -1.000000      0.003382   \n",
       "25%       61.000000    -45.042732     -0.680404     -0.729430      0.640422   \n",
       "50%      153.000000     -0.241530      0.000497      0.006021      1.159604   \n",
       "75%      330.000000     44.975295      0.680126      0.736615      2.071376   \n",
       "max     2966.000000     89.031520      1.000000      1.000000     21.392240   \n",
       "std      229.145755     51.912306      0.693805      0.720161      1.260742   \n",
       "\n",
       "                            DateTime    storm  storm phase  400kmDensity_pred  \n",
       "count                          90260  90260.0      90260.0       90260.000000  \n",
       "mean   2006-10-29 11:57:29.734101504      1.0          2.0           1.542716  \n",
       "min              2003-01-01 00:30:00      1.0          2.0           0.097776  \n",
       "25%              2004-07-29 14:12:30      1.0          2.0           0.663336  \n",
       "50%              2006-07-06 15:07:30      1.0          2.0           1.196680  \n",
       "75%              2008-07-12 23:56:15      1.0          2.0           2.113241  \n",
       "max              2012-06-22 03:40:00      1.0          2.0          15.355804  \n",
       "std                              NaN      0.0          0.0           1.178516  "
      ]
     },
     "execution_count": 29,
     "metadata": {},
     "output_type": "execute_result"
    }
   ],
   "source": [
    "recovery_data.describe()"
   ]
  },
  {
   "cell_type": "markdown",
   "id": "9a247235-762e-4737-8cc8-3d85a4f73ffe",
   "metadata": {},
   "source": [
    "## Overall Look\n",
    "1. Randomly sample storm times and non-storm times\n",
    "2. run all events through explainer\n",
    "3. make beeswarm and bar plots for all classes"
   ]
  },
  {
   "cell_type": "code",
   "execution_count": 10,
   "id": "ed8e06de-1092-4787-ba87-564110b4fa0a",
   "metadata": {},
   "outputs": [],
   "source": [
    "# rng sampler\n",
    "gen = rand.default_rng(693993)"
   ]
  },
  {
   "cell_type": "code",
   "execution_count": 11,
   "id": "b2c25034-80d2-4f50-a662-56e3d5022833",
   "metadata": {},
   "outputs": [],
   "source": [
    "NUM_SAMP = 2000\n",
    "storm_sample = gen.choice(range(storm_data.shape[0]), size = NUM_SAMP, replace=False)\n",
    "quiet_sample = gen.choice(range(quiet_data.shape[0]), size = NUM_SAMP, replace=False)"
   ]
  },
  {
   "cell_type": "code",
   "execution_count": 12,
   "id": "4dc22b96-2fcd-4225-b867-a097e790b960",
   "metadata": {},
   "outputs": [],
   "source": [
    "storm_samp_data = storm_data.iloc[storm_sample]\n",
    "quiet_samp_data = quiet_data.iloc[quiet_sample]"
   ]
  },
  {
   "cell_type": "code",
   "execution_count": 13,
   "id": "8ef9db44-6e42-4196-ab8d-5d574bbe870e",
   "metadata": {},
   "outputs": [],
   "source": [
    "recovery_sample = gen.choice(range(recovery_data.shape[0]), size = NUM_SAMP, replace=False)\n",
    "mainphase_sample = gen.choice(range(mainphase_data.shape[0]), size = NUM_SAMP, replace=False)"
   ]
  },
  {
   "cell_type": "code",
   "execution_count": 14,
   "id": "af2deaa0-f0fe-4b68-b148-57455f3430ab",
   "metadata": {},
   "outputs": [],
   "source": [
    "mainphase_samp_data = mainphase_data.iloc[mainphase_sample]\n",
    "recovery_samp_data = recovery_data.iloc[recovery_sample]"
   ]
  },
  {
   "cell_type": "markdown",
   "id": "08dbc1c2-59a3-4d46-ac80-dbb02fd7002e",
   "metadata": {},
   "source": [
    "### Get shapley values\n",
    "WARNING: this will take a while on a laptop, depending on the NUM_SAMP. For 2000 pts on my laptop (NJOBS=8), it took about 25-30 mins, depending on multitasking."
   ]
  },
  {
   "cell_type": "code",
   "execution_count": 12,
   "id": "10a91f60-11c4-4691-a131-6b6043a29597",
   "metadata": {},
   "outputs": [
    {
     "name": "stdout",
     "output_type": "stream",
     "text": [
      "start shap storm\n",
      "Time taken: 1739.8983653000032\n"
     ]
    }
   ],
   "source": [
    "\"\"\"\n",
    "print(\"start shap storm\")\n",
    "tfirst = pytime.perf_counter()\n",
    "storm_shap = explainer(storm_samp_data[fgeo_col])\n",
    "tnow = pytime.perf_counter()\n",
    "print(f\"Time taken: {tnow - tfirst}\")\n",
    "save_explanation(\"storm1\", storm_shap)\n",
    "\"\"\""
   ]
  },
  {
   "cell_type": "code",
   "execution_count": 19,
   "id": "f61142ec-1791-4302-8777-36ba2a3f4cb0",
   "metadata": {},
   "outputs": [
    {
     "name": "stdout",
     "output_type": "stream",
     "text": [
      "start shap quiet\n",
      "Time taken: 1506.1464909000206\n"
     ]
    }
   ],
   "source": [
    "\"\"\"\n",
    "print(\"start shap quiet\")\n",
    "tfirst = pytime.perf_counter()\n",
    "quiet_shap = explainer(quiet_samp_data[fgeo_col])\n",
    "tnow = pytime.perf_counter()\n",
    "print(f\"Time taken: {tnow - tfirst}\")\n",
    "save_explanation(\"quiet1\", quiet_shap)\n",
    "\"\"\""
   ]
  },
  {
   "cell_type": "code",
   "execution_count": 154,
   "id": "f46baa20-35e4-4e15-9063-16f2502c7c60",
   "metadata": {},
   "outputs": [
    {
     "name": "stdout",
     "output_type": "stream",
     "text": [
      "start shap main\n",
      "Time taken: 1556.1542722999584\n"
     ]
    }
   ],
   "source": [
    "\"\"\"\n",
    "print(\"start shap main\")\n",
    "tfirst = pytime.perf_counter()\n",
    "mainphase_shap = explainer(mainphase_samp_data[fgeo_col])\n",
    "tnow = pytime.perf_counter()\n",
    "print(f\"Time taken: {tnow - tfirst}\")\n",
    "save_explanation(\"mainphase1\", mainphase_shap)\n",
    "\"\"\""
   ]
  },
  {
   "cell_type": "code",
   "execution_count": 155,
   "id": "a14c59e5-1003-4cda-a25a-c201646b28fd",
   "metadata": {},
   "outputs": [
    {
     "name": "stdout",
     "output_type": "stream",
     "text": [
      "start shap main\n",
      "Time taken: 1481.5337197000626\n"
     ]
    }
   ],
   "source": [
    "\"\"\"\n",
    "print(\"start shap recovery\")\n",
    "tfirst = pytime.perf_counter()\n",
    "recovery_shap = explainer(recovery_samp_data[fgeo_col])\n",
    "tnow = pytime.perf_counter()\n",
    "print(f\"Time taken: {tnow - tfirst}\")\n",
    "save_explanation(\"recovery1\", recovery_shap)\n",
    "\"\"\""
   ]
  },
  {
   "cell_type": "code",
   "execution_count": 156,
   "id": "5fec3d0d-c261-4d42-bae8-563aa1827967",
   "metadata": {},
   "outputs": [],
   "source": [
    "# alternatively, if you have already calculated shap values\n",
    "storm_shap = load_explanation(\"storm1.npz\")"
   ]
  },
  {
   "cell_type": "code",
   "execution_count": 157,
   "id": "a2d7c2fc-1fee-497e-b2e1-155e9482aaa1",
   "metadata": {},
   "outputs": [],
   "source": [
    "recovery_shap = load_explanation(\"recovery1.npz\")"
   ]
  },
  {
   "cell_type": "code",
   "execution_count": 159,
   "id": "7d4274b3-fadf-451b-abba-bfd0e1c95ac5",
   "metadata": {},
   "outputs": [],
   "source": [
    "quiet_shap = load_explanation(\"quiet1.npz\")"
   ]
  },
  {
   "cell_type": "code",
   "execution_count": 18,
   "id": "2dcb33ce-ef32-418f-bc1e-35302da747d7",
   "metadata": {},
   "outputs": [],
   "source": [
    "mainphase_shap = load_explanation(\"mainphase1.npz\")"
   ]
  },
  {
   "cell_type": "code",
   "execution_count": 160,
   "id": "1a430584-051d-4896-9f1c-720e7d32113a",
   "metadata": {},
   "outputs": [],
   "source": [
    "total_shap = stack_expln(storm_shap, quiet_shap)"
   ]
  },
  {
   "cell_type": "markdown",
   "id": "3ea69419-98e1-4752-a522-4397a0721aab",
   "metadata": {},
   "source": [
    "### Make plots for global shap values\n",
    "\n",
    "#### beeswarm"
   ]
  },
  {
   "cell_type": "code",
   "execution_count": 13,
   "id": "8fc499ca-ddf7-43f7-baf3-044088389605",
   "metadata": {},
   "outputs": [
    {
     "name": "stderr",
     "output_type": "stream",
     "text": [
      "No data for colormapping provided via 'c'. Parameters 'vmin', 'vmax' will be ignored\n"
     ]
    }
   ],
   "source": [
    "beeswarm(storm_shap)"
   ]
  },
  {
   "cell_type": "code",
   "execution_count": 18,
   "id": "68e939a8-ba91-499c-b2d5-a46eb1b1e7c1",
   "metadata": {},
   "outputs": [],
   "source": [
    "f = plt.gcf()\n",
    "f.savefig(\"beeswarmStorm.png\", bbox_inches=\"tight\")\n",
    "f.clf()"
   ]
  },
  {
   "cell_type": "code",
   "execution_count": 20,
   "id": "41b511a8-debe-4ee3-aff6-1168ea63cfc2",
   "metadata": {},
   "outputs": [
    {
     "name": "stderr",
     "output_type": "stream",
     "text": [
      "No data for colormapping provided via 'c'. Parameters 'vmin', 'vmax' will be ignored\n"
     ]
    }
   ],
   "source": [
    "beeswarm(quiet_shap)"
   ]
  },
  {
   "cell_type": "code",
   "execution_count": 21,
   "id": "003e799b-e879-43e8-ae2d-a4ff1fc72148",
   "metadata": {},
   "outputs": [],
   "source": [
    "f = plt.gcf()\n",
    "f.savefig(\"beeswarmQuiet.png\", bbox_inches=\"tight\")\n",
    "f.clf()"
   ]
  },
  {
   "cell_type": "code",
   "execution_count": 156,
   "id": "05354c62-c34b-44f3-b6df-d20a9f91cd01",
   "metadata": {},
   "outputs": [
    {
     "name": "stderr",
     "output_type": "stream",
     "text": [
      "No data for colormapping provided via 'c'. Parameters 'vmin', 'vmax' will be ignored\n"
     ]
    }
   ],
   "source": [
    "beeswarm(recovery_shap)"
   ]
  },
  {
   "cell_type": "code",
   "execution_count": 157,
   "id": "83d6449d-1825-46e1-be17-33a666994a30",
   "metadata": {},
   "outputs": [],
   "source": [
    "f = plt.gcf()\n",
    "f.savefig(\"beeswarmRecover.png\", bbox_inches=\"tight\")\n",
    "f.clf()"
   ]
  },
  {
   "cell_type": "code",
   "execution_count": 18,
   "id": "54077089-8355-4226-a3a5-dcb5b1682c9d",
   "metadata": {},
   "outputs": [
    {
     "ename": "NameError",
     "evalue": "name 'mainphase_shap' is not defined",
     "output_type": "error",
     "traceback": [
      "\u001b[0;31m---------------------------------------------------------------------------\u001b[0m",
      "\u001b[0;31mNameError\u001b[0m                                 Traceback (most recent call last)",
      "Cell \u001b[0;32mIn[18], line 1\u001b[0m\n\u001b[0;32m----> 1\u001b[0m beeswarm(\u001b[43mmainphase_shap\u001b[49m)\n",
      "\u001b[0;31mNameError\u001b[0m: name 'mainphase_shap' is not defined"
     ]
    }
   ],
   "source": [
    "beeswarm(mainphase_shap)"
   ]
  },
  {
   "cell_type": "code",
   "execution_count": 159,
   "id": "92a6486e-b7f9-49e3-893d-55ef02415bb4",
   "metadata": {},
   "outputs": [],
   "source": [
    "f = plt.gcf()\n",
    "f.savefig(\"beeswarmMainPhase.png\", bbox_inches=\"tight\")\n",
    "f.clf()"
   ]
  },
  {
   "cell_type": "code",
   "execution_count": 146,
   "id": "ccab3d4e-6e3f-4364-8e8a-c5568fa77b46",
   "metadata": {},
   "outputs": [],
   "source": [
    "beeswarm(total_shap)"
   ]
  },
  {
   "cell_type": "code",
   "execution_count": 147,
   "id": "3cc2dd79-4fdb-4659-92c3-fb8f7eb69904",
   "metadata": {},
   "outputs": [],
   "source": [
    "f = plt.gcf()\n",
    "f.savefig(\"beeswarmTotal.png\", bbox_inches=\"tight\")\n",
    "f.clf()"
   ]
  },
  {
   "cell_type": "code",
   "execution_count": 137,
   "id": "b9b66613-e629-4104-bddb-23fe9ad3e696",
   "metadata": {},
   "outputs": [
    {
     "name": "stderr",
     "output_type": "stream",
     "text": [
      "No data for colormapping provided via 'c'. Parameters 'vmin', 'vmax' will be ignored\n"
     ]
    }
   ],
   "source": [
    "beeswarm(storm_shap+quiet_shap) # this is the wrong method"
   ]
  },
  {
   "cell_type": "code",
   "execution_count": 138,
   "id": "026accc9-ad65-4723-8c97-daf62cc91555",
   "metadata": {},
   "outputs": [],
   "source": [
    "f = plt.gcf()\n",
    "f.savefig(\"beeswarmBadTotal.png\", bbox_inches=\"tight\")\n",
    "f.clf()"
   ]
  },
  {
   "cell_type": "markdown",
   "id": "15f96ebf-f9cc-44d6-b30e-63890e07fdc4",
   "metadata": {},
   "source": [
    "#### bar"
   ]
  },
  {
   "cell_type": "code",
   "execution_count": 106,
   "id": "595135c0-13c1-4d91-a19a-7fd6cc8f7127",
   "metadata": {},
   "outputs": [],
   "source": [
    "fts.plots.bar(storm_shap)"
   ]
  },
  {
   "cell_type": "code",
   "execution_count": 107,
   "id": "7749472e-ba33-46b5-85fb-ef0251a11d22",
   "metadata": {},
   "outputs": [],
   "source": [
    "f = plt.gcf()\n",
    "f.savefig(\"barStorm.png\", bbox_inches=\"tight\")\n",
    "f.clf()"
   ]
  },
  {
   "cell_type": "code",
   "execution_count": 108,
   "id": "e6c9f060-d746-421b-9446-22df51805903",
   "metadata": {},
   "outputs": [],
   "source": [
    "fts.plots.bar(quiet_shap)"
   ]
  },
  {
   "cell_type": "code",
   "execution_count": 109,
   "id": "95d23c09-d3ac-4122-84e8-349d22592941",
   "metadata": {},
   "outputs": [],
   "source": [
    "f = plt.gcf()\n",
    "f.savefig(\"barQuiet.png\", bbox_inches=\"tight\")\n",
    "f.clf()"
   ]
  },
  {
   "cell_type": "code",
   "execution_count": 148,
   "id": "5fe316fd-dbb8-4029-98ae-c6e27cba9918",
   "metadata": {},
   "outputs": [],
   "source": [
    "fts.plots.bar(total_shap)"
   ]
  },
  {
   "cell_type": "code",
   "execution_count": 149,
   "id": "ab543464-e902-4de2-a155-6f5100c3265d",
   "metadata": {},
   "outputs": [],
   "source": [
    "f = plt.gcf()\n",
    "f.savefig(\"barTotal.png\", bbox_inches=\"tight\")\n",
    "f.clf()"
   ]
  },
  {
   "cell_type": "code",
   "execution_count": 215,
   "id": "34ca4840-8430-45d8-8523-c4ffc3181756",
   "metadata": {},
   "outputs": [],
   "source": [
    "fts.plots.bar(recovery_shap)"
   ]
  },
  {
   "cell_type": "code",
   "execution_count": 216,
   "id": "d66d5393-9b98-4f17-98f5-d2822b68ddc7",
   "metadata": {},
   "outputs": [],
   "source": [
    "f = plt.gcf()\n",
    "f.savefig(\"barRecovery.png\", bbox_inches=\"tight\")\n",
    "f.clf()"
   ]
  },
  {
   "cell_type": "code",
   "execution_count": 217,
   "id": "54851955-cbc3-4156-b0a0-16ce3bb5a5bb",
   "metadata": {},
   "outputs": [],
   "source": [
    "fts.plots.bar(mainphase_shap)"
   ]
  },
  {
   "cell_type": "code",
   "execution_count": 218,
   "id": "fcf4b586-b453-4cb7-ad07-950e0e20fac9",
   "metadata": {},
   "outputs": [],
   "source": [
    "f = plt.gcf()\n",
    "f.savefig(\"barMainPhase.png\", bbox_inches=\"tight\")\n",
    "f.clf()"
   ]
  },
  {
   "cell_type": "code",
   "execution_count": 255,
   "id": "bdd1dfaf-960e-4fee-bbf2-62dc04979cab",
   "metadata": {},
   "outputs": [],
   "source": [
    "fts.plots.heatmap(storm_shap)"
   ]
  },
  {
   "cell_type": "code",
   "execution_count": 256,
   "id": "22fbecb6-22f4-48e2-a1e7-bf65344356ba",
   "metadata": {},
   "outputs": [],
   "source": [
    "f = plt.gcf()\n",
    "f.savefig(\"heatmapStorm.png\", bbox_inches=\"tight\")\n",
    "f.clf()"
   ]
  },
  {
   "cell_type": "markdown",
   "id": "1f7abc48-3a9f-4d25-9b2c-843461cfe424",
   "metadata": {},
   "source": [
    "#### Clustering analysis\n",
    "Check redundancies of input features via clustering analysis"
   ]
  },
  {
   "cell_type": "code",
   "execution_count": 21,
   "id": "1f7bec05-c18e-47e8-9655-20f0e1f949c5",
   "metadata": {},
   "outputs": [
    {
     "data": {
      "text/plain": [
       "(2000, 9)"
      ]
     },
     "execution_count": 21,
     "metadata": {},
     "output_type": "execute_result"
    }
   ],
   "source": [
    "storm_samp_data[fgeo_col].values.shape"
   ]
  },
  {
   "cell_type": "code",
   "execution_count": 20,
   "id": "6f8e1254-2b25-4219-b231-0a2df56e39c7",
   "metadata": {},
   "outputs": [
    {
     "name": "stdout",
     "output_type": "stream",
     "text": [
      "Time taken: 0.007312900037504733\n"
     ]
    },
    {
     "name": "stderr",
     "output_type": "stream",
     "text": [
      "Ignoring the y argument passed to shap.utils.hclust since the given clustering metric is not based on label fitting!\n"
     ]
    }
   ],
   "source": [
    "tfirst = pytime.perf_counter()\n",
    "storm_clustering = shap.utils.hclust(storm_samp_data[fgeo_col].values, storm_samp_data[\"400kmDensity_pred\"].values, metric=\"cosine\")\n",
    "tnow = pytime.perf_counter()\n",
    "print(f\"Time taken: {tnow - tfirst}\")"
   ]
  },
  {
   "cell_type": "code",
   "execution_count": 22,
   "id": "ca1449d2-c9ef-4a6a-a95a-54acca14ea16",
   "metadata": {},
   "outputs": [
    {
     "name": "stdout",
     "output_type": "stream",
     "text": [
      "Time taken: 0.8806039001792669\n"
     ]
    }
   ],
   "source": [
    "tfirst = pytime.perf_counter()\n",
    "storm_clustering_xg = shap.utils.hclust(storm_samp_data[fgeo_col].values, storm_samp_data[\"400kmDensity_pred\"].values, metric=\"auto\")\n",
    "tnow = pytime.perf_counter()\n",
    "print(f\"Time taken: {tnow - tfirst}\")"
   ]
  },
  {
   "cell_type": "code",
   "execution_count": 52,
   "id": "64c05f9e-bcb5-42b9-aa8b-193ceb1bf6bf",
   "metadata": {},
   "outputs": [],
   "source": [
    "fts.plots.bar(storm_shap, clustering=storm_clustering_xg)"
   ]
  },
  {
   "cell_type": "code",
   "execution_count": 53,
   "id": "1897becf-f03c-410d-be76-c4c502f747b9",
   "metadata": {},
   "outputs": [],
   "source": [
    "f = plt.gcf()\n",
    "f.savefig(\"barStorm_clust_xg.png\", bbox_inches=\"tight\")\n",
    "f.clf()"
   ]
  },
  {
   "cell_type": "code",
   "execution_count": 23,
   "id": "ddd51f95-de0a-4a64-9ba0-26fefaaca9f7",
   "metadata": {},
   "outputs": [],
   "source": [
    "total_samp_data = pd.concat([storm_samp_data, quiet_samp_data])"
   ]
  },
  {
   "cell_type": "code",
   "execution_count": 24,
   "id": "70287dc1-dcf0-4fb2-bf17-24c05d93e778",
   "metadata": {},
   "outputs": [
    {
     "name": "stdout",
     "output_type": "stream",
     "text": [
      "Time taken: 0.8806074999738485\n"
     ]
    }
   ],
   "source": [
    "tfirst = pytime.perf_counter()\n",
    "total_clustering_xg = shap.utils.hclust(total_samp_data[fgeo_col].values, total_samp_data[\"400kmDensity_pred\"].values, metric=\"auto\")\n",
    "tnow = pytime.perf_counter()\n",
    "print(f\"Time taken: {tnow - tfirst}\")"
   ]
  },
  {
   "cell_type": "code",
   "execution_count": 50,
   "id": "eaf7609a-78fc-4ad3-bc46-e33a2023bcf1",
   "metadata": {},
   "outputs": [],
   "source": [
    "fts.plots.bar(total_shap, clustering=total_clustering_xg)"
   ]
  },
  {
   "cell_type": "code",
   "execution_count": 51,
   "id": "74c60b2f-6fce-4dc9-8eb7-ce356f89ff78",
   "metadata": {},
   "outputs": [],
   "source": [
    "f = plt.gcf()\n",
    "f.savefig(\"barTotal_clust_xg.png\", bbox_inches=\"tight\")\n",
    "f.clf()"
   ]
  },
  {
   "cell_type": "code",
   "execution_count": 21,
   "id": "7d829e95-57d4-4ff3-8d93-54a43792f5c5",
   "metadata": {},
   "outputs": [
    {
     "data": {
      "text/plain": [
       "['1300_02',\n",
       " '43000_09',\n",
       " '85550_13',\n",
       " '94400_18',\n",
       " 'SYM_H index',\n",
       " 'AE',\n",
       " 'SatLat',\n",
       " 'cos_SatMagLT',\n",
       " 'sin_SatMagLT']"
      ]
     },
     "execution_count": 21,
     "metadata": {},
     "output_type": "execute_result"
    }
   ],
   "source": [
    "fgeo_col"
   ]
  },
  {
   "cell_type": "markdown",
   "id": "ea2dc711-0fd1-4770-b6ba-412a0eae4059",
   "metadata": {},
   "source": [
    "## Single Events\n",
    "The events we are looking at are semi-randomly chosen: 2 during a storm, one during a non-storm. One has a \"high\" density prediction, one \"medium\", and one \"low\".\n",
    "\n",
    "1. \"High\": storm_data index 4803\n",
    "2. \"Medium\": storm_data index 4804\n",
    "3. \"Low\": quiet_data index 604"
   ]
  },
  {
   "cell_type": "code",
   "execution_count": 11,
   "id": "67d22ad4-7e64-4054-b888-97eb5325d9f9",
   "metadata": {},
   "outputs": [],
   "source": [
    "high_evt = storm_data.iloc[4803]\n",
    "med_evt = storm_data.iloc[4804]\n",
    "low_evt = quiet_data.iloc[604]"
   ]
  },
  {
   "cell_type": "code",
   "execution_count": 18,
   "id": "9e6a4e8f-630e-460c-9575-0cd41f218867",
   "metadata": {
    "scrolled": true
   },
   "outputs": [
    {
     "data": {
      "text/plain": [
       "1300_02                         7.778282\n",
       "43000_09                       10.102009\n",
       "85550_13                         9.56579\n",
       "94400_18                        9.332493\n",
       "SYM_H index                        -25.0\n",
       "AE                                 112.0\n",
       "SatLat                          43.13684\n",
       "cos_SatMagLT                   -0.815219\n",
       "sin_SatMagLT                    0.579153\n",
       "400kmDensity                    4.485137\n",
       "DateTime             2003-03-07 05:15:00\n",
       "storm                                  1\n",
       "storm phase                            2\n",
       "400kmDensity_pred               4.847418\n",
       "Name: 62847, dtype: object"
      ]
     },
     "execution_count": 18,
     "metadata": {},
     "output_type": "execute_result"
    }
   ],
   "source": [
    "high_evt"
   ]
  },
  {
   "cell_type": "code",
   "execution_count": 29,
   "id": "a009f903-0503-4342-a64d-f41e44636826",
   "metadata": {},
   "outputs": [
    {
     "name": "stdout",
     "output_type": "stream",
     "text": [
      "MLT high:  9.6406\n"
     ]
    }
   ],
   "source": [
    "print(\"MLT high: \", 24.*np.arctan2(high_evt[\"sin_SatMagLT\"], high_evt[\"cos_SatMagLT\"])/(2*np.pi))"
   ]
  },
  {
   "cell_type": "code",
   "execution_count": 15,
   "id": "688a6a5d-3ae2-4a32-9e6e-6b0a2ea21d59",
   "metadata": {},
   "outputs": [
    {
     "data": {
      "text/plain": [
       "1300_02                         7.391199\n",
       "43000_09                        9.927624\n",
       "85550_13                        9.469308\n",
       "94400_18                        9.234825\n",
       "SYM_H index                        -44.0\n",
       "AE                                 169.0\n",
       "SatLat                         -14.01763\n",
       "cos_SatMagLT                   -0.051369\n",
       "sin_SatMagLT                     0.99868\n",
       "400kmDensity                    1.664955\n",
       "DateTime             2005-01-23 07:45:00\n",
       "storm                                  1\n",
       "storm phase                            2\n",
       "400kmDensity_pred               1.621514\n",
       "Name: 261021, dtype: object"
      ]
     },
     "execution_count": 15,
     "metadata": {},
     "output_type": "execute_result"
    }
   ],
   "source": [
    "med_evt"
   ]
  },
  {
   "cell_type": "code",
   "execution_count": 30,
   "id": "384ff95f-7d37-4bd6-986b-993d8e4ea5e7",
   "metadata": {},
   "outputs": [
    {
     "name": "stdout",
     "output_type": "stream",
     "text": [
      "MLT med:  6.1963\n"
     ]
    }
   ],
   "source": [
    "print(\"MLT med: \",24.*np.arctan2(med_evt[\"sin_SatMagLT\"], med_evt[\"cos_SatMagLT\"])/(2*np.pi))"
   ]
  },
  {
   "cell_type": "code",
   "execution_count": 17,
   "id": "2c34b181-f985-41fd-9631-4e4d124737bc",
   "metadata": {},
   "outputs": [
    {
     "data": {
      "text/plain": [
       "1300_02                         7.160848\n",
       "43000_09                        9.815979\n",
       "85550_13                        9.411937\n",
       "94400_18                        9.186509\n",
       "SYM_H index                         -1.0\n",
       "AE                                 220.0\n",
       "SatLat                          38.91635\n",
       "cos_SatMagLT                   -0.694483\n",
       "sin_SatMagLT                     0.71951\n",
       "400kmDensity                    0.944242\n",
       "DateTime             2010-03-29 16:05:00\n",
       "storm                                 -1\n",
       "storm phase                           -1\n",
       "400kmDensity_pred               0.888769\n",
       "Name: 805729, dtype: object"
      ]
     },
     "execution_count": 17,
     "metadata": {},
     "output_type": "execute_result"
    }
   ],
   "source": [
    "low_evt"
   ]
  },
  {
   "cell_type": "code",
   "execution_count": 32,
   "id": "239f5d20-777b-43f9-b758-c8e3b5a7ebc2",
   "metadata": {},
   "outputs": [
    {
     "name": "stdout",
     "output_type": "stream",
     "text": [
      "MLT low:  8.9324\n"
     ]
    }
   ],
   "source": [
    "print(\"MLT low: \", 24.*np.arctan2(low_evt[\"sin_SatMagLT\"], low_evt[\"cos_SatMagLT\"])/(2*np.pi))"
   ]
  },
  {
   "cell_type": "markdown",
   "id": "eefc26d6-df81-43e2-b7ca-00264073aaee",
   "metadata": {},
   "source": [
    "### individual shap values and waterfall"
   ]
  },
  {
   "cell_type": "code",
   "execution_count": 12,
   "id": "2ef16a64-1150-4d21-a088-1ba49d1b4942",
   "metadata": {},
   "outputs": [],
   "source": [
    "high_shaps = explainer(high_evt[fgeo_col].to_frame().transpose())"
   ]
  },
  {
   "cell_type": "code",
   "execution_count": 13,
   "id": "cb0099e9-623a-4695-b243-dbf784d1a1de",
   "metadata": {},
   "outputs": [],
   "source": [
    "# example waterfall plot\n",
    "# copy shenangians needed since single event data somehow becomes a 2D array\n",
    "from copy import deepcopy\n",
    "high_shaps2 = deepcopy(high_shaps)\n",
    "high_shaps2.base_values = high_shaps2.base_values[0][0]\n",
    "high_shaps2.values = high_shaps2.values.squeeze()\n",
    "high_shaps2.data = high_shaps2.data.squeeze()"
   ]
  },
  {
   "cell_type": "code",
   "execution_count": null,
   "id": "d514b5b7-945c-4471-9f3d-b486b10f0651",
   "metadata": {},
   "outputs": [],
   "source": [
    "fts.plots.waterfall(high_shaps2)"
   ]
  },
  {
   "cell_type": "code",
   "execution_count": 99,
   "id": "2608b301-4119-4491-ad65-d521ad156ec4",
   "metadata": {},
   "outputs": [],
   "source": [
    "f = plt.gcf()\n",
    "f.savefig(\"waterfallHighDen.png\", bbox_inches=\"tight\")\n",
    "f.clf()"
   ]
  },
  {
   "cell_type": "code",
   "execution_count": 20,
   "id": "ecd14e7f-79ae-49e2-8457-121c20b82687",
   "metadata": {},
   "outputs": [],
   "source": [
    "med_shaps = explainer(med_evt[fgeo_col].to_frame().transpose())"
   ]
  },
  {
   "cell_type": "code",
   "execution_count": 21,
   "id": "e0f941b2-3eb1-4ff6-b1e7-6429cadbff31",
   "metadata": {},
   "outputs": [],
   "source": [
    "med_shaps2 = deepcopy(med_shaps)\n",
    "med_shaps2.base_values = med_shaps2.base_values[0][0]\n",
    "med_shaps2.values = med_shaps2.values.squeeze()\n",
    "med_shaps2.data = med_shaps2.data.squeeze()"
   ]
  },
  {
   "cell_type": "code",
   "execution_count": 102,
   "id": "26086004-26c2-414e-8871-e8b64a59f1ae",
   "metadata": {},
   "outputs": [],
   "source": [
    "fts.plots.waterfall(med_shaps2)"
   ]
  },
  {
   "cell_type": "code",
   "execution_count": 103,
   "id": "91862733-f911-493d-ba54-2a3cb9dcde26",
   "metadata": {},
   "outputs": [],
   "source": [
    "f = plt.gcf()\n",
    "f.savefig(\"waterfallMedDen.png\", bbox_inches=\"tight\")\n",
    "f.clf()"
   ]
  },
  {
   "cell_type": "code",
   "execution_count": 22,
   "id": "607a1507-00c0-4642-b24e-4372d791730f",
   "metadata": {},
   "outputs": [],
   "source": [
    "low_shaps = explainer(low_evt[fgeo_col].to_frame().transpose())"
   ]
  },
  {
   "cell_type": "code",
   "execution_count": 23,
   "id": "41681436-57c1-4c41-9265-6ec2aaf43fa4",
   "metadata": {},
   "outputs": [],
   "source": [
    "low_shaps2 = deepcopy(low_shaps)\n",
    "low_shaps2.base_values = low_shaps2.base_values[0][0]\n",
    "low_shaps2.values = low_shaps2.values.squeeze()\n",
    "low_shaps2.data = low_shaps2.data.squeeze()"
   ]
  },
  {
   "cell_type": "code",
   "execution_count": null,
   "id": "02a899f3-51f3-4037-ba87-9712f864e62c",
   "metadata": {},
   "outputs": [],
   "source": [
    "fts.plots.waterfall(low_shaps2)"
   ]
  },
  {
   "cell_type": "code",
   "execution_count": 78,
   "id": "ab588354-cba3-473f-afed-5cf4e9c99a79",
   "metadata": {},
   "outputs": [],
   "source": [
    "f = plt.gcf()\n",
    "f.savefig(\"waterfallLowDen.png\", bbox_inches=\"tight\")\n",
    "f.clf()"
   ]
  },
  {
   "cell_type": "markdown",
   "id": "7d7c8782-b91b-40d5-9c97-36f0b7572443",
   "metadata": {},
   "source": [
    "### Expand from single point to 2D Hemisphere Grid"
   ]
  },
  {
   "cell_type": "code",
   "execution_count": 16,
   "id": "0c4ff74e-d699-4d2c-83a0-a331e81d01f3",
   "metadata": {},
   "outputs": [],
   "source": [
    "# now expand to a 2D grid\n",
    "high_north_qq = high_evt[\"SatLat\"] >= 0.\n",
    "high_grid, high_sat_lat_msh = pb.make_grid(high_evt, north=high_north_qq)"
   ]
  },
  {
   "cell_type": "code",
   "execution_count": 45,
   "id": "20ea03c9-23a4-4fec-8e07-001d29e7a4f7",
   "metadata": {},
   "outputs": [
    {
     "name": "stdout",
     "output_type": "stream",
     "text": [
      "start event mapping\n",
      "Time taken: 214.44375979993492\n"
     ]
    }
   ],
   "source": [
    "# Uncomment to make shap vals for high grid\n",
    "\"\"\"\n",
    "print(\"start event mapping\")\n",
    "tfirst = pytime.perf_counter()\n",
    "high_shap_vals = explainer(high_grid)\n",
    "tnow = pytime.perf_counter()\n",
    "print(f\"Time taken: {tnow - tfirst}\")\n",
    "save_explanation(\"high_evt_shap\", high_shap_vals)\n",
    "\"\"\""
   ]
  },
  {
   "cell_type": "code",
   "execution_count": 19,
   "id": "b6cb637a-54fb-457f-baa5-1bcf97f49118",
   "metadata": {
    "scrolled": true
   },
   "outputs": [],
   "source": [
    "# if already done shap calculation\n",
    "high_shap_vals = load_explanation(\"high_evt_shap.npz\")"
   ]
  },
  {
   "cell_type": "code",
   "execution_count": 21,
   "id": "8defe490-48f4-4485-9f98-e34131901f2e",
   "metadata": {},
   "outputs": [],
   "source": [
    "# now expand to a 2D grid\n",
    "med_north_qq = med_evt[\"SatLat\"] >= 0.\n",
    "med_grid, med_sat_lat_msh = pb.make_grid(med_evt, north=med_north_qq)"
   ]
  },
  {
   "cell_type": "code",
   "execution_count": 82,
   "id": "07fb4312-45cf-4e27-bdbc-799270c3b7bb",
   "metadata": {},
   "outputs": [
    {
     "name": "stdout",
     "output_type": "stream",
     "text": [
      "start event mapping\n",
      "Time taken: 198.80716650001705\n"
     ]
    }
   ],
   "source": [
    "#Uncomment to get SHAP values on grid for medium event\n",
    "\"\"\"\n",
    "print(\"start event mapping\")\n",
    "tfirst = pytime.perf_counter()\n",
    "med_shap_vals = explainer(med_grid)\n",
    "tnow = pytime.perf_counter()\n",
    "print(f\"Time taken: {tnow - tfirst}\")\n",
    "save_explanation(\"med_evt_shap\", med_shap_vals)\n",
    "\"\"\""
   ]
  },
  {
   "cell_type": "code",
   "execution_count": 23,
   "id": "142d2be3-a8c4-4513-8ded-78c8f0c89a89",
   "metadata": {},
   "outputs": [],
   "source": [
    "med_shap_vals = load_explanation(\"med_evt_shap.npz\")"
   ]
  },
  {
   "cell_type": "code",
   "execution_count": 24,
   "id": "d65a780d-6a20-4e40-9b0e-35335ced853f",
   "metadata": {},
   "outputs": [],
   "source": [
    "# now expand to a 2D grid\n",
    "low_north_qq = low_evt[\"SatLat\"] >= 0.\n",
    "low_grid, low_sat_lat_msh = pb.make_grid(low_evt, north=low_north_qq)"
   ]
  },
  {
   "cell_type": "code",
   "execution_count": 83,
   "id": "81062f0c-7c8c-4c7f-9bbb-82948d229901",
   "metadata": {},
   "outputs": [
    {
     "name": "stdout",
     "output_type": "stream",
     "text": [
      "start event mapping\n",
      "Time taken: 217.43469040002674\n"
     ]
    }
   ],
   "source": [
    "# Uncomment to generate shap_values on Grid for low event\n",
    "\"\"\"\n",
    "print(\"start event mapping\")\n",
    "tfirst = pytime.perf_counter()\n",
    "low_shap_vals = explainer(low_grid)\n",
    "tnow = pytime.perf_counter()\n",
    "print(f\"Time taken: {tnow - tfirst}\")\n",
    "save_explanation(\"low_evt_shap\", low_shap_vals)\n",
    "\"\"\""
   ]
  },
  {
   "cell_type": "code",
   "execution_count": 26,
   "id": "810ce85d-4650-4ad8-b413-c648c7913e97",
   "metadata": {},
   "outputs": [],
   "source": [
    "low_shap_vals = load_explanation(\"low_evt_shap.npz\")"
   ]
  },
  {
   "cell_type": "markdown",
   "id": "d79798d1-1b2a-452a-8384-8f5fe82806c8",
   "metadata": {},
   "source": [
    "#### Plot density predictions for hemisphere"
   ]
  },
  {
   "cell_type": "code",
   "execution_count": 17,
   "id": "ae67607e-9467-4d39-947d-6ee92148f1c5",
   "metadata": {},
   "outputs": [
    {
     "name": "stderr",
     "output_type": "stream",
     "text": [
      "set_ticklabels() should only be used with a fixed number of ticks, i.e. after set_ticks() or using a FixedLocator.\n"
     ]
    }
   ],
   "source": [
    "figP = plt.Figure()\n",
    "axP = figP.add_subplot(111, projection=\"polar\")\n",
    "\n",
    "img = pb.plot_density(axP, rf, high_evt, high_grid, high_sat_lat_msh, high_north_qq, vr=[0.5,6])\n",
    "\n",
    "figP.colorbar(img)\n",
    "figP.tight_layout()"
   ]
  },
  {
   "cell_type": "code",
   "execution_count": 86,
   "id": "a16ee729-c296-44a3-94d8-25030dbaec4c",
   "metadata": {},
   "outputs": [],
   "source": [
    "figP.savefig(\"highDen.png\")"
   ]
  },
  {
   "cell_type": "code",
   "execution_count": 18,
   "id": "ff12c0d5-a8cd-458d-bc06-b49e22919c12",
   "metadata": {},
   "outputs": [
    {
     "name": "stderr",
     "output_type": "stream",
     "text": [
      "set_ticklabels() should only be used with a fixed number of ticks, i.e. after set_ticks() or using a FixedLocator.\n",
      "set_ticklabels() should only be used with a fixed number of ticks, i.e. after set_ticks() or using a FixedLocator.\n"
     ]
    }
   ],
   "source": [
    "# plot geo den plot\n",
    "pb.full_den_movie_plot(high_evt, rf, out_prefix=\"highGEO\", vr = [0.5,6.5])"
   ]
  },
  {
   "cell_type": "code",
   "execution_count": 91,
   "id": "3d75aa47-dd53-4d18-a9a1-ef2da7ff7ac4",
   "metadata": {},
   "outputs": [
    {
     "name": "stderr",
     "output_type": "stream",
     "text": [
      "FixedFormatter should only be used together with FixedLocator\n"
     ]
    }
   ],
   "source": [
    "figP = plt.Figure()\n",
    "axP = figP.add_subplot(111, projection=\"polar\")\n",
    "\n",
    "img = pb.plot_density(axP, rf, med_evt, med_grid, med_sat_lat_msh, med_north_qq, vr=[0.5,6])\n",
    "\n",
    "figP.colorbar(img)\n",
    "figP.tight_layout()"
   ]
  },
  {
   "cell_type": "code",
   "execution_count": 92,
   "id": "1a69fdb2-7456-4ae8-aa47-d0d2c50e0e67",
   "metadata": {},
   "outputs": [],
   "source": [
    "figP.savefig(\"medDen.png\")"
   ]
  },
  {
   "cell_type": "code",
   "execution_count": 22,
   "id": "17ac7ee1-ccac-44ea-9984-c3f997bfa046",
   "metadata": {},
   "outputs": [
    {
     "name": "stderr",
     "output_type": "stream",
     "text": [
      "set_ticklabels() should only be used with a fixed number of ticks, i.e. after set_ticks() or using a FixedLocator.\n",
      "set_ticklabels() should only be used with a fixed number of ticks, i.e. after set_ticks() or using a FixedLocator.\n"
     ]
    }
   ],
   "source": [
    "# plot geo den plot\n",
    "pb.full_den_movie_plot(med_evt, rf, out_prefix=\"medGEO\", vr = [0.5,6.5])"
   ]
  },
  {
   "cell_type": "code",
   "execution_count": 18,
   "id": "34da2b40-bea3-4f6a-8a90-c6c8dbb4eee2",
   "metadata": {},
   "outputs": [
    {
     "ename": "NameError",
     "evalue": "name 'low_grid' is not defined",
     "output_type": "error",
     "traceback": [
      "\u001b[0;31m---------------------------------------------------------------------------\u001b[0m",
      "\u001b[0;31mNameError\u001b[0m                                 Traceback (most recent call last)",
      "Cell \u001b[0;32mIn[18], line 4\u001b[0m\n\u001b[1;32m      1\u001b[0m figP \u001b[38;5;241m=\u001b[39m plt\u001b[38;5;241m.\u001b[39mFigure()\n\u001b[1;32m      2\u001b[0m axP \u001b[38;5;241m=\u001b[39m figP\u001b[38;5;241m.\u001b[39madd_subplot(\u001b[38;5;241m111\u001b[39m, projection\u001b[38;5;241m=\u001b[39m\u001b[38;5;124m\"\u001b[39m\u001b[38;5;124mpolar\u001b[39m\u001b[38;5;124m\"\u001b[39m)\n\u001b[0;32m----> 4\u001b[0m img \u001b[38;5;241m=\u001b[39m pb\u001b[38;5;241m.\u001b[39mplot_density(axP, rf, low_evt, \u001b[43mlow_grid\u001b[49m, sat_lat_msh, low_north_qq, vr\u001b[38;5;241m=\u001b[39m[\u001b[38;5;241m0.5\u001b[39m,\u001b[38;5;241m6\u001b[39m])\n\u001b[1;32m      6\u001b[0m figP\u001b[38;5;241m.\u001b[39mcolorbar(img)\n\u001b[1;32m      7\u001b[0m figP\u001b[38;5;241m.\u001b[39mtight_layout()\n",
      "\u001b[0;31mNameError\u001b[0m: name 'low_grid' is not defined"
     ]
    }
   ],
   "source": [
    "figP = plt.Figure()\n",
    "axP = figP.add_subplot(111, projection=\"polar\")\n",
    "\n",
    "img = pb.plot_density(axP, rf, low_evt, low_grid, low_sat_lat_msh, low_north_qq, vr=[0.5,6])\n",
    "\n",
    "figP.colorbar(img)\n",
    "figP.tight_layout()"
   ]
  },
  {
   "cell_type": "code",
   "execution_count": 89,
   "id": "c6efb114-661c-4967-9965-6150166509eb",
   "metadata": {},
   "outputs": [],
   "source": [
    "figP.savefig(\"lowDen.png\")"
   ]
  },
  {
   "cell_type": "code",
   "execution_count": 25,
   "id": "711d125e-9944-4dbd-9f5a-29d4194a23b1",
   "metadata": {},
   "outputs": [
    {
     "name": "stderr",
     "output_type": "stream",
     "text": [
      "set_ticklabels() should only be used with a fixed number of ticks, i.e. after set_ticks() or using a FixedLocator.\n",
      "set_ticklabels() should only be used with a fixed number of ticks, i.e. after set_ticks() or using a FixedLocator.\n"
     ]
    }
   ],
   "source": [
    "# plot geo den plot\n",
    "pb.full_den_movie_plot(low_evt, rf, out_prefix=\"lowGEO\", vr = [0.5,2.5])"
   ]
  },
  {
   "cell_type": "code",
   "execution_count": null,
   "id": "f9e268d3-8939-4b7a-8735-7abf17b38f41",
   "metadata": {},
   "outputs": [],
   "source": []
  },
  {
   "cell_type": "markdown",
   "id": "58ddf610-efd3-41d6-99f9-7a7c3b81b6cd",
   "metadata": {},
   "source": [
    "#### Beeswarm for hemisphere"
   ]
  },
  {
   "cell_type": "code",
   "execution_count": null,
   "id": "53eff3e4-485a-4630-98b2-06684737730b",
   "metadata": {},
   "outputs": [],
   "source": [
    "beeswarm(high_shap_vals, show=False)"
   ]
  },
  {
   "cell_type": "code",
   "execution_count": null,
   "id": "0587d9d4-e69f-491b-b9b1-7794bd40f8db",
   "metadata": {},
   "outputs": [],
   "source": [
    "f = plt.gcf()\n",
    "f.savefig(\"high_evt_beeswarm.png\", bbox_inches=\"tight\")\n",
    "f.clf()"
   ]
  },
  {
   "cell_type": "markdown",
   "id": "7b906428-8f1c-4c87-a386-3488d2dff2bd",
   "metadata": {},
   "source": [
    "#### Shap Values plots"
   ]
  },
  {
   "cell_type": "code",
   "execution_count": 30,
   "id": "b8e181e0-febe-439d-a639-96acc369da35",
   "metadata": {},
   "outputs": [
    {
     "data": {
      "text/plain": [
       "['1300_02',\n",
       " '43000_09',\n",
       " '85550_13',\n",
       " '94400_18',\n",
       " 'SYM_H index',\n",
       " 'AE',\n",
       " 'SatLat',\n",
       " 'cos_SatMagLT',\n",
       " 'sin_SatMagLT']"
      ]
     },
     "execution_count": 30,
     "metadata": {},
     "output_type": "execute_result"
    }
   ],
   "source": [
    "high_shap_vals.feature_names"
   ]
  },
  {
   "cell_type": "code",
   "execution_count": 27,
   "id": "38cfc3d8-ce9e-4ae6-9c39-273c402616b6",
   "metadata": {},
   "outputs": [
    {
     "name": "stderr",
     "output_type": "stream",
     "text": [
      "set_ticklabels() should only be used with a fixed number of ticks, i.e. after set_ticks() or using a FixedLocator.\n",
      "set_ticklabels() should only be used with a fixed number of ticks, i.e. after set_ticks() or using a FixedLocator.\n",
      "set_ticklabels() should only be used with a fixed number of ticks, i.e. after set_ticks() or using a FixedLocator.\n",
      "set_ticklabels() should only be used with a fixed number of ticks, i.e. after set_ticks() or using a FixedLocator.\n",
      "set_ticklabels() should only be used with a fixed number of ticks, i.e. after set_ticks() or using a FixedLocator.\n",
      "set_ticklabels() should only be used with a fixed number of ticks, i.e. after set_ticks() or using a FixedLocator.\n",
      "set_ticklabels() should only be used with a fixed number of ticks, i.e. after set_ticks() or using a FixedLocator.\n",
      "set_ticklabels() should only be used with a fixed number of ticks, i.e. after set_ticks() or using a FixedLocator.\n",
      "set_ticklabels() should only be used with a fixed number of ticks, i.e. after set_ticks() or using a FixedLocator.\n"
     ]
    }
   ],
   "source": [
    "figP = plt.Figure()\n",
    "\n",
    "for nme in high_shap_vals.feature_names:\n",
    "    i = shpa._fgeo_col_dict[nme]\n",
    "    figP.clf()\n",
    "    shp = high_shap_vals.values[:,i]\n",
    "    min_shap = shp.min()\n",
    "    max_shap = shp.max()\n",
    "    #min_shap = min(0, shp.min())\n",
    "    #max_shap = max(0, shp.max())\n",
    "    ax = figP.add_subplot(111, projection=\"polar\")\n",
    "    img = pb.plot_shap(ax, high_evt, shp, nme, high_sat_lat_msh, high_north_qq, [min_shap, max_shap])\n",
    "    figP.colorbar(img)\n",
    "    ax.set_title(f\"Factor: {nme}\", pad=30, size=14)\n",
    "    #ax.text(0.06, 0.06, f\"{date}\", transform=figP.transFigure, size=13)\n",
    "    figP.tight_layout()\n",
    "    figP.savefig(\"High\"+f\"_{nme[:5]}_shap.png\")"
   ]
  },
  {
   "cell_type": "code",
   "execution_count": 28,
   "id": "14546275-442d-4ddb-8e6e-364fe8bcfaba",
   "metadata": {},
   "outputs": [
    {
     "name": "stderr",
     "output_type": "stream",
     "text": [
      "set_ticklabels() should only be used with a fixed number of ticks, i.e. after set_ticks() or using a FixedLocator.\n",
      "set_ticklabels() should only be used with a fixed number of ticks, i.e. after set_ticks() or using a FixedLocator.\n",
      "set_ticklabels() should only be used with a fixed number of ticks, i.e. after set_ticks() or using a FixedLocator.\n",
      "set_ticklabels() should only be used with a fixed number of ticks, i.e. after set_ticks() or using a FixedLocator.\n",
      "set_ticklabels() should only be used with a fixed number of ticks, i.e. after set_ticks() or using a FixedLocator.\n",
      "set_ticklabels() should only be used with a fixed number of ticks, i.e. after set_ticks() or using a FixedLocator.\n"
     ]
    }
   ],
   "source": [
    "fig = plt.Figure(figsize=(12,8))\n",
    "gs = fig.add_gridspec(2,3)\n",
    "ax0 = fig.add_subplot(gs[0,0], projection=\"polar\")\n",
    "ax1 = fig.add_subplot(gs[0,1], projection=\"polar\")\n",
    "ax2 = fig.add_subplot(gs[0,2], projection=\"polar\")\n",
    "ax3 = fig.add_subplot(gs[1,0], projection=\"polar\")\n",
    "ax4 = fig.add_subplot(gs[1,1], projection=\"polar\")\n",
    "ax5 = fig.add_subplot(gs[1,2], projection=\"polar\")\n",
    "\n",
    "for nme,axis in zip([\"43000_09\", \"85550_13\",\"1300_02\",\"cos_SatMagLT\", \"sin_SatMagLT\",\"SYM_H index\"], [ax0, ax1, ax2, ax3, ax4, ax5]):\n",
    "    i = shpa._fgeo_col_dict[nme]\n",
    "    shp = high_shap_vals.values[:,i]\n",
    "    min_shap = shp.min()\n",
    "    max_shap = shp.max()\n",
    "    #min_shap = min(0, shp.min())\n",
    "    #max_shap = max(0, shp.max())\n",
    "    img = pb.plot_shap(axis, high_evt, shp, nme, high_sat_lat_msh, high_north_qq, [min_shap, max_shap])\n",
    "    fig.colorbar(img, ax=axis, fraction=0.046, pad=0.06)\n",
    "    axis.set_title(f\"Factor: {nme}\", pad=25, size=16)\n",
    "    #ax.text(0.06, 0.06, f\"{date}\", transform=figP.transFigure, size=13)\n",
    "    fig.tight_layout()\n",
    "    fig.savefig(\"Hex_High_Shap.png\")"
   ]
  },
  {
   "cell_type": "code",
   "execution_count": 39,
   "id": "d35bd80d-b536-4da9-a68a-a11dbf7c36e5",
   "metadata": {},
   "outputs": [
    {
     "name": "stderr",
     "output_type": "stream",
     "text": [
      "set_ticklabels() should only be used with a fixed number of ticks, i.e. after set_ticks() or using a FixedLocator.\n",
      "set_ticklabels() should only be used with a fixed number of ticks, i.e. after set_ticks() or using a FixedLocator.\n",
      "set_ticklabels() should only be used with a fixed number of ticks, i.e. after set_ticks() or using a FixedLocator.\n",
      "set_ticklabels() should only be used with a fixed number of ticks, i.e. after set_ticks() or using a FixedLocator.\n",
      "set_ticklabels() should only be used with a fixed number of ticks, i.e. after set_ticks() or using a FixedLocator.\n",
      "set_ticklabels() should only be used with a fixed number of ticks, i.e. after set_ticks() or using a FixedLocator.\n"
     ]
    }
   ],
   "source": [
    "fig = plt.Figure(figsize=(12,8))\n",
    "gs = fig.add_gridspec(2,3)\n",
    "ax0 = fig.add_subplot(gs[0,0], projection=\"polar\")\n",
    "ax1 = fig.add_subplot(gs[0,1], projection=\"polar\")\n",
    "ax2 = fig.add_subplot(gs[0,2], projection=\"polar\")\n",
    "ax3 = fig.add_subplot(gs[1,0], projection=\"polar\")\n",
    "ax4 = fig.add_subplot(gs[1,1], projection=\"polar\")\n",
    "ax5 = fig.add_subplot(gs[1,2], projection=\"polar\")\n",
    "\n",
    "for nme,axis in zip([\"43000_09\", \"85550_13\",\"1300_02\",\"cos_SatMagLT\", \"sin_SatMagLT\",\"SYM_H index\"], [ax0, ax1, ax2, ax3, ax4, ax5]):\n",
    "    i = shpa._fgeo_col_dict[nme]\n",
    "    shp = med_shap_vals.values[:,i]\n",
    "    min_shap = shp.min()\n",
    "    max_shap = shp.max()\n",
    "    #min_shap = min(0, shp.min())\n",
    "    #max_shap = max(0, shp.max())\n",
    "    img = pb.plot_shap(axis, med_evt, shp, nme, med_sat_lat_msh, med_north_qq, [min_shap, max_shap])\n",
    "    fig.colorbar(img, ax=axis, fraction=0.046, pad=0.06)\n",
    "    axis.set_title(f\"Factor: {nme}\", pad=25, size=16)\n",
    "    #ax.text(0.06, 0.06, f\"{date}\", transform=figP.transFigure, size=13)\n",
    "    fig.tight_layout()\n",
    "    fig.savefig(\"Hex_Med_Shap.png\")"
   ]
  },
  {
   "cell_type": "code",
   "execution_count": null,
   "id": "f21dd464-50a3-4741-beb9-3b9ccfe2d1b8",
   "metadata": {},
   "outputs": [],
   "source": []
  },
  {
   "cell_type": "code",
   "execution_count": 36,
   "id": "2f579f66-4d84-44bf-a3da-d4813fb25d0a",
   "metadata": {},
   "outputs": [
    {
     "name": "stderr",
     "output_type": "stream",
     "text": [
      "set_ticklabels() should only be used with a fixed number of ticks, i.e. after set_ticks() or using a FixedLocator.\n",
      "set_ticklabels() should only be used with a fixed number of ticks, i.e. after set_ticks() or using a FixedLocator.\n",
      "set_ticklabels() should only be used with a fixed number of ticks, i.e. after set_ticks() or using a FixedLocator.\n",
      "set_ticklabels() should only be used with a fixed number of ticks, i.e. after set_ticks() or using a FixedLocator.\n",
      "set_ticklabels() should only be used with a fixed number of ticks, i.e. after set_ticks() or using a FixedLocator.\n",
      "set_ticklabels() should only be used with a fixed number of ticks, i.e. after set_ticks() or using a FixedLocator.\n"
     ]
    }
   ],
   "source": [
    "fig = plt.Figure(figsize=(12,8))\n",
    "gs = fig.add_gridspec(2,3)\n",
    "ax0 = fig.add_subplot(gs[0,0], projection=\"polar\")\n",
    "ax1 = fig.add_subplot(gs[0,1], projection=\"polar\")\n",
    "ax2 = fig.add_subplot(gs[0,2], projection=\"polar\")\n",
    "ax3 = fig.add_subplot(gs[1,0], projection=\"polar\")\n",
    "ax4 = fig.add_subplot(gs[1,1], projection=\"polar\")\n",
    "ax5 = fig.add_subplot(gs[1,2], projection=\"polar\")\n",
    "\n",
    "for nme,axis in zip([\"43000_09\", \"85550_13\",\"1300_02\",\"cos_SatMagLT\", \"sin_SatMagLT\",\"SYM_H index\"], [ax0, ax1, ax2, ax3, ax4, ax5]):\n",
    "    i = shpa._fgeo_col_dict[nme]\n",
    "    shp = low_shap_vals.values[:,i]\n",
    "    min_shap = shp.min()\n",
    "    max_shap = shp.max()\n",
    "    #min_shap = min(0, shp.min())\n",
    "    #max_shap = max(0, shp.max())\n",
    "    img = pb.plot_shap(axis, low_evt, shp, nme, low_sat_lat_msh, low_north_qq, [min_shap, max_shap])\n",
    "    fig.colorbar(img, ax=axis, fraction=0.046, pad=0.06)\n",
    "    axis.set_title(f\"Factor: {nme}\", pad=25, size=16)\n",
    "    #ax.text(0.06, 0.06, f\"{date}\", transform=figP.transFigure, size=13)\n",
    "    fig.tight_layout()\n",
    "    fig.savefig(\"Hex_Low_Shap.png\")"
   ]
  }
 ],
 "metadata": {
  "kernelspec": {
   "display_name": "Python 3 (ipykernel)",
   "language": "python",
   "name": "python3"
  },
  "language_info": {
   "codemirror_mode": {
    "name": "ipython",
    "version": 3
   },
   "file_extension": ".py",
   "mimetype": "text/x-python",
   "name": "python",
   "nbconvert_exporter": "python",
   "pygments_lexer": "ipython3",
   "version": "3.10.12"
  }
 },
 "nbformat": 4,
 "nbformat_minor": 5
}
