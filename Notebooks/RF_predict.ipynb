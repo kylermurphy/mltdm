{
 "cells": [
  {
   "cell_type": "markdown",
   "metadata": {},
   "source": [
    "# Density Prediction\n",
    "\n",
    "Notebook to use the Murphy et al. [2024] density model to generate predictions. \n",
    "\n",
    "[Model Fitting](./RF_model.ipynb) is done here and saved into a pickle file. \n"
   ]
  },
  {
   "cell_type": "code",
   "execution_count": 1,
   "metadata": {},
   "outputs": [],
   "source": [
    "%load_ext autoreload\n",
    "%autoreload 2"
   ]
  },
  {
   "cell_type": "code",
   "execution_count": 2,
   "metadata": {},
   "outputs": [],
   "source": [
    "import sys\n",
    "import os\n",
    "import pandas as pd\n",
    "import numpy as np\n",
    "import matplotlib.pyplot as plt\n",
    "\n",
    "from matplotlib.gridspec import GridSpec\n",
    "\n",
    "import cartopy.crs as ccrs"
   ]
  },
  {
   "cell_type": "code",
   "execution_count": 3,
   "metadata": {},
   "outputs": [],
   "source": [
    "pth = '../'\n",
    "sys.path.append(os.path.dirname(pth))"
   ]
  },
  {
   "cell_type": "code",
   "execution_count": 4,
   "metadata": {},
   "outputs": [
    {
     "name": "stdout",
     "output_type": "stream",
     "text": [
      "Downloading https://lasp.colorado.edu/eve/data_access/eve_data/fism/flare_bands/flare_bands.nc\n"
     ]
    },
    {
     "name": "stderr",
     "output_type": "stream",
     "text": [
      "100%|██████████| 1.38G/1.38G [02:29<00:00, 9.86MB/s]\n"
     ]
    },
    {
     "name": "stdout",
     "output_type": "stream",
     "text": [
      "Loading: D:\\data\\mltdm\\flare_bands.nc\n"
     ]
    },
    {
     "name": "stderr",
     "output_type": "stream",
     "text": [
      "100%|██████████| 31/31 [00:17<00:00,  1.79it/s]\n"
     ]
    }
   ],
   "source": [
    "import mltdm.io as io \n",
    "a,b = io.fism_flare()\n",
    "bb = io.fism_flare_day(sdate='2015-01-01',edate='2015-01-31') "
   ]
  },
  {
   "cell_type": "code",
   "execution_count": null,
   "metadata": {},
   "outputs": [],
   "source": [
    "bb = io.fism_flare_day(sdate='2015-01-01',edate='2015-01-31')"
   ]
  },
  {
   "cell_type": "code",
   "execution_count": null,
   "metadata": {},
   "outputs": [],
   "source": [
    "from mltdm.den_fx.fx_den import fx_den"
   ]
  },
  {
   "cell_type": "code",
   "execution_count": null,
   "metadata": {},
   "outputs": [],
   "source": [
    "from mltdm.config import config\n",
    "c_dat = config().dat\n",
    "c_dat"
   ]
  },
  {
   "cell_type": "code",
   "execution_count": null,
   "metadata": {},
   "outputs": [],
   "source": [
    "# initiate the random forest density object\n",
    "# this sets up the grids for predicting density\n",
    "# two grids are intitated\n",
    "# 1) MLT grid\n",
    "# 2) Geographic grid\n",
    "# When initiating you can also change the \n",
    "# grid dimension by specifing\n",
    "# n_lat - number of latitude bins\n",
    "# n_mlt - number of magnetic local time bins\n",
    "rf_mod = fx_den(dropAE=False)\n"
   ]
  },
  {
   "cell_type": "code",
   "execution_count": null,
   "metadata": {},
   "outputs": [],
   "source": [
    "rf_mod = fx_den(dropAE=False)"
   ]
  },
  {
   "cell_type": "markdown",
   "metadata": {},
   "source": [
    "# Model Variations\n",
    "\n",
    "The fixed altitude model has two variations. One which uses AE and one that doesn't. By default the model which **doesn't** use AE is loaded to derive predictions. This is because AE is no longer a reliable index which can be retrieved in real or near-real time. \n"
   ]
  },
  {
   "cell_type": "code",
   "execution_count": null,
   "metadata": {},
   "outputs": [],
   "source": [
    "assert rf_mod.AE == False\n",
    "print(rf_mod.feat_cols)"
   ]
  },
  {
   "cell_type": "markdown",
   "metadata": {},
   "source": [
    "# Polar MLT plots"
   ]
  },
  {
   "cell_type": "code",
   "execution_count": null,
   "metadata": {},
   "outputs": [],
   "source": [
    "# predict density on the mlt grid\n",
    "# you can predict density for a single time point over the entire grid\n",
    "# or a date range over the entire grid\n",
    "denMLT = rf_mod.pred_den_mlt(sdate='2003-01-01 00:00', edate='2003-01-01 00:20')\n",
    "\n",
    "# plot the denisty\n",
    "# if no date is passed the first date is plotted\n",
    "rf_mod.plot_dpolar(denMLT,cmap=plt.cm.inferno)\n"
   ]
  },
  {
   "cell_type": "code",
   "execution_count": null,
   "metadata": {},
   "outputs": [],
   "source": [
    "# plot the density for a specifc time from the previously prediction call\n",
    "# use vmin and vmax to set the color scale range \n",
    "# and change the color map\n",
    "rf_mod.plot_dpolar(denMLT,cmap=plt.cm.plasma, date='2003-01-01 00:15', vmin=2E-12, vmax=6E-12)"
   ]
  },
  {
   "cell_type": "markdown",
   "metadata": {},
   "source": [
    "# Geographic Plots"
   ]
  },
  {
   "cell_type": "code",
   "execution_count": null,
   "metadata": {},
   "outputs": [],
   "source": [
    "# predict density on a geographic grid\n",
    "# over a 3 day period\n",
    "\n",
    "denGeo = rf_mod.pred_den_geo(sdate='2003-01-01 00:00:00', edate='2003-01-03 00:00:00')"
   ]
  },
  {
   "cell_type": "code",
   "execution_count": null,
   "metadata": {},
   "outputs": [],
   "source": [
    "# plot the density at specific time on the created figure\n",
    "fig2 = plt.figure()\n",
    "ax2 = fig2.add_subplot(111,projection=ccrs.PlateCarree())\n",
    "rf_mod.plot_dgeo(denGeo, ax=ax2, date='2003-01-01 06:00:00')"
   ]
  },
  {
   "cell_type": "code",
   "execution_count": null,
   "metadata": {},
   "outputs": [],
   "source": [
    "fig2 = plt.figure()\n",
    "ax2 = fig2.add_subplot(111,projection=ccrs.PlateCarree())\n",
    "rf_mod.plot_dgeo(denGeo, ax=ax2, date='2003-01-01 06:00:00')"
   ]
  },
  {
   "cell_type": "markdown",
   "metadata": {},
   "source": [
    "# Combine Plots using Grid Spec"
   ]
  },
  {
   "cell_type": "code",
   "execution_count": null,
   "metadata": {},
   "outputs": [],
   "source": [
    "date = '2003-01-01 00:05:00'\n",
    "vmin = 2E-12\n",
    "vmax = 5E-12\n",
    "\n",
    "fig = plt.figure(figsize=(10,4))\n",
    "\n",
    "gs = GridSpec(1, 2, width_ratios=[1, 2])\n",
    "ax1 = fig.add_subplot(gs[0], projection='polar')\n",
    "ax2 = fig.add_subplot(gs[1], projection=ccrs.PlateCarree())\n",
    "\n",
    "pol_im = rf_mod.plot_dpolar(denMLT, ax=ax1,date=date,vmin=vmin,vmax=vmax)\n",
    "geo_im = rf_mod.plot_dgeo(denGeo, ax=ax2,date=date,vmin=vmin,vmax=vmax)\n",
    "\n",
    "fig.delaxes(fig.axes[2])\n",
    "fig.delaxes(fig.axes[2])\n",
    "\n",
    "fig.colorbar(geo_im, ax=ax2, orientation='horizontal', label='Neutral Density')\n"
   ]
  }
 ],
 "metadata": {
  "kernelspec": {
   "display_name": "satdrag",
   "language": "python",
   "name": "python3"
  },
  "language_info": {
   "codemirror_mode": {
    "name": "ipython",
    "version": 3
   },
   "file_extension": ".py",
   "mimetype": "text/x-python",
   "name": "python",
   "nbconvert_exporter": "python",
   "pygments_lexer": "ipython3",
   "version": "3.10.16"
  }
 },
 "nbformat": 4,
 "nbformat_minor": 2
}
