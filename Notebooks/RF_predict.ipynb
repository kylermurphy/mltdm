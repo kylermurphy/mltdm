{
 "cells": [
  {
   "cell_type": "markdown",
   "metadata": {},
   "source": [
    "# Density Prediction\n",
    "\n",
    "Notebook to use the Murphy et al. [2024] density model to generate predictions. \n",
    "\n",
    "[Model Fitting](./RF_model.ipynb) is done here and saved into a pickle file. \n"
   ]
  },
  {
   "cell_type": "code",
   "execution_count": 1,
   "metadata": {},
   "outputs": [],
   "source": [
    "import sys\n",
    "import os\n",
    "import pandas as pd\n",
    "import numpy as np\n",
    "import matplotlib.pyplot as plt\n",
    "\n",
    "from matplotlib.gridspec import GridSpec\n",
    "\n",
    "import cartopy.crs as ccrs\n",
    "from cartopy.feature.nightshade import Nightshade"
   ]
  },
  {
   "cell_type": "code",
   "execution_count": 2,
   "metadata": {},
   "outputs": [],
   "source": [
    "pth = '../'\n",
    "sys.path.append(os.path.dirname(pth))"
   ]
  },
  {
   "cell_type": "code",
   "execution_count": 3,
   "metadata": {},
   "outputs": [],
   "source": [
    "from mltdm.rf_den import rf_den"
   ]
  },
  {
   "cell_type": "code",
   "execution_count": 4,
   "metadata": {},
   "outputs": [],
   "source": [
    "# define the path to the model\n",
    "mdl_sv = r\"D:\\data\\SatDensities\\FI_GEO_RFdat_AIMFAHR.pkl\"\n",
    "\n",
    "# initiate the random forest density object\n",
    "# this sets up the grids for predicting density\n",
    "# two grids are intitated\n",
    "# 1) MLT grid\n",
    "# 2) Geographic grid\n",
    "# When initiating you can also change the \n",
    "# grid dimension by specifing\n",
    "# n_lat - number of latitude bins\n",
    "# n_mlt - number of magnetic local time bins\n",
    "rf_mod = rf_den(input_f=mdl_sv)\n"
   ]
  },
  {
   "cell_type": "code",
   "execution_count": 5,
   "metadata": {},
   "outputs": [
    {
     "data": {
      "text/plain": [
       "(RandomForestRegressor(max_features=0.5, min_samples_leaf=5, n_estimators=500,\n",
       "                       n_jobs=10, oob_score=True, random_state=17),\n",
       "          1300_02  43000_09  85550_13  94400_18  SYM_H index     AE    SatLat  \\\n",
       " 200511  7.490862  9.911153  9.455465  9.228625        -15.0  105.0 -60.03617   \n",
       " 242348  7.465065  9.924064  9.463639  9.232483         -6.0   18.0 -60.03854   \n",
       " 994822  7.696125  9.986703  9.501317  9.272544          5.0   22.0 -87.11732   \n",
       " 779234  6.966885  9.780912  9.396972  9.171520        -10.0   78.0  25.74049   \n",
       " 623312  6.596638  9.738198  9.379986  9.153376          3.0   19.0 -20.07795   \n",
       " ...          ...       ...       ...       ...          ...    ...       ...   \n",
       " 172003  7.550780  9.954000  9.479843  9.246430        -20.0  301.0 -33.99006   \n",
       " 952506  7.523355  9.920227  9.458151  9.237336          2.0   28.0 -12.79244   \n",
       " 542667  6.572343  9.752442  9.385822  9.157213        -12.0   56.0 -15.53038   \n",
       " 346251  7.313595  9.831315  9.418499  9.188301        -15.0   98.0  71.51182   \n",
       " 640730  6.543627  9.736842  9.379654  9.153707         -6.0   41.0 -32.99256   \n",
       " \n",
       "         cos_SatMagLT  sin_SatMagLT  400kmDensity            DateTime  storm  \\\n",
       " 200511     -0.494025      0.869448      0.987248 2004-06-27 05:15:00     -1   \n",
       " 242348     -0.870029      0.493001      3.009913 2004-11-19 11:40:00     -1   \n",
       " 994822      0.919029      0.394191      2.751377 2012-01-15 05:50:00     -1   \n",
       " 779234      0.544046      0.839055      0.329241 2009-12-27 16:10:00     -1   \n",
       " 623312      0.625324     -0.780365      0.132017 2008-07-04 06:40:00     -1   \n",
       " ...              ...           ...           ...                 ...    ...   \n",
       " 172003      0.350387      0.936605      1.397473 2004-03-20 05:35:00     -1   \n",
       " 952506      0.315881     -0.948799      1.311369 2011-08-21 07:30:00     -1   \n",
       " 542667      0.217837      0.975985      0.296167 2007-09-28 06:15:00      1   \n",
       " 346251      0.148465     -0.988918      0.998579 2005-11-15 06:15:00      1   \n",
       " 640730     -0.625631     -0.780119      0.586734 2008-09-02 18:10:00      1   \n",
       " \n",
       "         storm phase  400kmDensity_pred  \n",
       " 200511           -1           0.958129  \n",
       " 242348           -1           2.395532  \n",
       " 994822           -1           2.378069  \n",
       " 779234           -1           0.294765  \n",
       " 623312           -1           0.140145  \n",
       " ...             ...                ...  \n",
       " 172003           -1           1.492804  \n",
       " 952506           -1           1.333157  \n",
       " 542667            1           0.329296  \n",
       " 346251            2           0.988540  \n",
       " 640730            1           0.575740  \n",
       " \n",
       " [632548 rows x 14 columns],\n",
       "          1300_02   43000_09  85550_13  94400_18  SYM_H index     AE    SatLat  \\\n",
       " 903948  7.664779   9.928549  9.467913  9.245706        -12.0  108.0  84.25808   \n",
       " 554057  6.607930   9.745382  9.382757  9.155589          6.0    8.0   9.13028   \n",
       " 456731  7.223082   9.813589  9.411127  9.181063         -1.0   61.0 -35.97821   \n",
       " 311549  7.188870   9.824064  9.412030  9.178936        -21.0  182.0  26.94382   \n",
       " 963763  7.739736   9.988330  9.502165  9.279763        -33.0   93.0  14.17202   \n",
       " ...          ...        ...       ...       ...          ...    ...       ...   \n",
       " 191591  7.502864   9.917313  9.458319  9.229165         -4.0   65.0  -9.33719   \n",
       " 222591  7.607633   9.970318  9.490818  9.264793         -3.0  226.0  59.14136   \n",
       " 131941  7.946184  10.069125  9.549757  9.321369        -22.0  197.0   4.09472   \n",
       " 628130  6.606060   9.748060  9.384877  9.157815         -3.0   73.0  -5.76265   \n",
       " 146141  7.702016  10.033449  9.530857  9.299762        -24.0  401.0  24.03203   \n",
       " \n",
       "         cos_SatMagLT  sin_SatMagLT  400kmDensity            DateTime  storm  \\\n",
       " 903948      0.669792      0.742549      1.378450 2011-03-05 17:00:00      1   \n",
       " 554057      0.809478      0.587150      0.234295 2007-11-06 19:25:00     -1   \n",
       " 456731      0.657000      0.753890      0.273550 2006-12-03 20:55:00      1   \n",
       " 311549      0.207553      0.978224      0.426421 2005-07-17 18:25:00      1   \n",
       " 963763     -0.426348     -0.904559      4.254969 2011-09-29 09:35:00      1   \n",
       " ...              ...           ...           ...                 ...    ...   \n",
       " 191591      0.999646      0.026596      0.855970 2004-05-27 05:55:00      1   \n",
       " 222591      0.476100      0.879391      1.100942 2004-09-11 21:15:00     -1   \n",
       " 131941      0.632388      0.774652      2.431487 2003-11-02 03:05:00      1   \n",
       " 628130     -0.370971      0.928645      0.111375 2008-07-21 00:10:00     -1   \n",
       " 146141     -0.994853     -0.101325      4.727785 2003-12-21 10:25:00      1   \n",
       " \n",
       "         storm phase  400kmDensity_pred  \n",
       " 903948            2           1.535200  \n",
       " 554057           -1           0.216055  \n",
       " 456731            1           0.420841  \n",
       " 311549            1           0.679862  \n",
       " 963763            2           4.344425  \n",
       " ...             ...                ...  \n",
       " 191591            1           0.851852  \n",
       " 222591           -1           1.307662  \n",
       " 131941            2           2.344678  \n",
       " 628130           -1           0.164508  \n",
       " 146141            1           4.205853  \n",
       " \n",
       " [271092 rows x 14 columns],\n",
       "           1300_02   43000_09  85550_13  94400_18  SYM_H index     AE  \\\n",
       " 44064    7.648391  10.081208  9.545769  9.306003         -5.0   23.0   \n",
       " 44065    7.650381  10.061229  9.536066  9.306486         -4.0   20.0   \n",
       " 44066    7.650341  10.061380  9.536143  9.306490         -4.0   26.0   \n",
       " 44067    7.650220  10.061382  9.535996  9.306390         -3.0   23.0   \n",
       " 44068    7.650038  10.061252  9.535645  9.306199         -3.0   27.0   \n",
       " ...           ...        ...       ...       ...          ...    ...   \n",
       " 1043132  7.712542   9.975582  9.499194  9.276424        -15.0  312.0   \n",
       " 1043133  7.712598   9.975467  9.499026  9.276375        -12.0  276.0   \n",
       " 1043134  7.713937   9.979102  9.506606  9.279442         -8.0  318.0   \n",
       " 1043135  7.716336   9.979165  9.503675  9.278617         -3.0  439.0   \n",
       " 1043136  7.752415   9.983977  9.505840  9.282507         -9.0  434.0   \n",
       " \n",
       "            SatLat  cos_SatMagLT  sin_SatMagLT  400kmDensity  \\\n",
       " 44064   -63.91420      0.997245      0.074178      2.444857   \n",
       " 44065   -80.81821      0.904045     -0.427437      2.940664   \n",
       " 44066   -79.01320     -0.053748     -0.998555      3.439471   \n",
       " 44067   -60.14416     -0.552628     -0.833428      4.098779   \n",
       " 44068   -39.90714     -0.729613     -0.683860      4.678797   \n",
       " ...           ...           ...           ...           ...   \n",
       " 1043132  32.88700      0.608346     -0.793672      2.616525   \n",
       " 1043133  52.02612      0.657967     -0.753047      2.469979   \n",
       " 1043134  70.94414      0.790251     -0.612783      2.727853   \n",
       " 1043135  88.89764     -0.116237      0.993221      2.191373   \n",
       " 1043136  69.92619     -0.445010      0.895525      2.565910   \n",
       " \n",
       "                    DateTime  storm  storm phase  400kmDensity_pred  \n",
       " 44064   2003-01-01 00:00:00      1            2           2.938758  \n",
       " 44065   2003-01-01 00:05:00      1            2           3.948556  \n",
       " 44066   2003-01-01 00:10:00      1            2           4.146907  \n",
       " 44067   2003-01-01 00:15:00      1            2           4.692745  \n",
       " 44068   2003-01-01 00:20:00      1            2           4.887459  \n",
       " ...                     ...    ...          ...                ...  \n",
       " 1043132 2012-06-30 23:40:00     -1           -1           2.066721  \n",
       " 1043133 2012-06-30 23:45:00     -1           -1           2.114559  \n",
       " 1043134 2012-06-30 23:50:00     -1           -1           2.286559  \n",
       " 1043135 2012-06-30 23:55:00     -1           -1           2.090036  \n",
       " 1043136 2012-07-01 00:00:00     -1           -1           2.065600  \n",
       " \n",
       " [910281 rows x 14 columns],\n",
       "          1300_02   43000_09  85550_13  94400_18  SYM_H index    AE    SatLat  \\\n",
       " 105120  7.648391  10.081208  9.545769  9.306003         -5.0  23.0  43.79120   \n",
       " 105121  7.650381  10.061229  9.536066  9.306486         -4.0  20.0  24.33522   \n",
       " 105122  7.650341  10.061380  9.536143  9.306490         -4.0  26.0   6.12783   \n",
       " 105123  7.650220  10.061382  9.535996  9.306390         -3.0  23.0 -15.32528   \n",
       " 105124  7.650038  10.061252  9.535645  9.306199         -3.0  27.0 -33.78976   \n",
       " ...          ...        ...       ...       ...          ...   ...       ...   \n",
       " 912380  7.148670   9.845757  9.427764  9.201105        -11.0  37.0 -45.95404   \n",
       " 912381  7.148865   9.845777  9.427763  9.201114        -12.0  38.0 -65.88587   \n",
       " 912382  7.149249   9.845796  9.427762  9.201123        -12.0  38.0 -84.55301   \n",
       " 912383  7.149424   9.845815  9.427761  9.201132        -11.0  42.0 -75.82732   \n",
       " 912384  7.196570   9.850230  9.427750  9.200406        -11.0  42.0 -55.03084   \n",
       " \n",
       "         cos_SatMagLT  sin_SatMagLT  400kmDensity            DateTime  storm  \\\n",
       " 105120     -0.580710     -0.814110      3.659148 2003-01-01 00:00:00      1   \n",
       " 105121     -0.504256     -0.863554      4.745748 2003-01-01 00:05:00      1   \n",
       " 105122     -0.444752     -0.895654      5.470819 2003-01-01 00:10:00      1   \n",
       " 105123     -0.369925     -0.929062      5.239831 2003-01-01 00:15:00      1   \n",
       " 105124     -0.274488     -0.961591      5.050540 2003-01-01 00:20:00      1   \n",
       " ...              ...           ...           ...                 ...    ...   \n",
       " 912380      0.744108     -0.668060      0.435259 2010-09-03 23:40:00     -1   \n",
       " 912381      0.745714     -0.666266      0.405432 2010-09-03 23:45:00     -1   \n",
       " 912382      0.714747     -0.699383      0.451866 2010-09-03 23:50:00     -1   \n",
       " 912383     -0.499433     -0.866352      0.560700 2010-09-03 23:55:00     -1   \n",
       " 912384     -0.910063      0.414471      0.784108 2010-09-04 00:00:00     -1   \n",
       " \n",
       "         storm phase  400kmDensity_pred  \n",
       " 105120            2           4.082639  \n",
       " 105121            2           4.586757  \n",
       " 105122            2           4.619495  \n",
       " 105123            2           3.989298  \n",
       " 105124            2           3.744127  \n",
       " ...             ...                ...  \n",
       " 912380           -1           0.848776  \n",
       " 912381           -1           1.061278  \n",
       " 912382           -1           1.124937  \n",
       " 912383           -1           1.193888  \n",
       " 912384           -1           1.292682  \n",
       " \n",
       " [790123 rows x 14 columns],\n",
       " {'feature_cols': ['1300_02',\n",
       "   '43000_09',\n",
       "   '85550_13',\n",
       "   '94400_18',\n",
       "   'SYM_H index',\n",
       "   'AE',\n",
       "   'SatLat'],\n",
       "  'target_cols': '400kmDensity',\n",
       "  'time_cols': ['DateTime', 'storm', 'storm phase'],\n",
       "  'log_col': ['1300_02', '43000_09', '85550_13', '94400_18'],\n",
       "  'lt_col': ['SatMagLT']})"
      ]
     },
     "execution_count": 5,
     "metadata": {},
     "output_type": "execute_result"
    }
   ],
   "source": [
    "import pandas as pd\n",
    "pd.read_pickle(mdl_sv) "
   ]
  },
  {
   "cell_type": "markdown",
   "metadata": {},
   "source": [
    "# Polar MLT plots"
   ]
  },
  {
   "cell_type": "code",
   "execution_count": null,
   "metadata": {},
   "outputs": [],
   "source": [
    "# predict density on the mlt grid\n",
    "# you can predict density for a single time point over the entire grid\n",
    "# or a date range over the entire grid\n",
    "denMLT = rf_mod.pred_den_mlt(sdate='2003-01-01 00:00', edate='2003-01-01 00:20')\n",
    "\n",
    "# plot the denisty\n",
    "# if no date is passed the first date is plotted\n",
    "rf_mod.plot_dpolar(denMLT,cmap=plt.cm.inferno)\n"
   ]
  },
  {
   "cell_type": "code",
   "execution_count": null,
   "metadata": {},
   "outputs": [],
   "source": [
    "# plot the density for a specifc time from the previously prediction call\n",
    "# use vmin and vmax to set the color scale range \n",
    "# and change the color map\n",
    "rf_mod.plot_dpolar(denMLT,cmap=plt.cm.plasma, date='2003-01-01 00:15', vmin=2E-12, vmax=6E-12)"
   ]
  },
  {
   "cell_type": "markdown",
   "metadata": {},
   "source": [
    "# Geographic Plots"
   ]
  },
  {
   "cell_type": "code",
   "execution_count": null,
   "metadata": {},
   "outputs": [],
   "source": [
    "# predict density on a geographic grid\n",
    "# over a 3 day period\n",
    "\n",
    "denGeo = rf_mod.pred_den_geo(sdate='2003-01-01 00:00:00', edate='2003-01-03 00:00:00')"
   ]
  },
  {
   "cell_type": "code",
   "execution_count": null,
   "metadata": {},
   "outputs": [],
   "source": [
    "# plot the density at specific time on the created figure\n",
    "fig2 = plt.figure()\n",
    "ax2 = fig2.add_subplot(111,projection=ccrs.PlateCarree())\n",
    "rf_mod.plot_dgeo(denGeo, ax=ax2, date='2003-01-01 06:00:00')"
   ]
  },
  {
   "cell_type": "code",
   "execution_count": null,
   "metadata": {},
   "outputs": [],
   "source": [
    "fig2 = plt.figure()\n",
    "ax2 = fig2.add_subplot(111,projection=ccrs.PlateCarree())\n",
    "rf_mod.plot_dgeo(denGeo, ax=ax2, date='2003-01-01 06:00:00')"
   ]
  },
  {
   "cell_type": "markdown",
   "metadata": {},
   "source": [
    "# Combine Plots using Grid Spec"
   ]
  },
  {
   "cell_type": "code",
   "execution_count": null,
   "metadata": {},
   "outputs": [],
   "source": [
    "date = '2003-01-01 00:05:00'\n",
    "vmin = 2E-12\n",
    "vmax = 5E-12\n",
    "\n",
    "fig = plt.figure(figsize=(10,4))\n",
    "\n",
    "gs = GridSpec(1, 2, width_ratios=[1, 2])\n",
    "ax1 = fig.add_subplot(gs[0], projection='polar')\n",
    "ax2 = fig.add_subplot(gs[1], projection=ccrs.PlateCarree())\n",
    "\n",
    "pol_im = rf_mod.plot_dpolar(denMLT, ax=ax1,date=date,vmin=vmin,vmax=vmax)\n",
    "geo_im = rf_mod.plot_dgeo(denGeo, ax=ax2,date=date,vmin=vmin,vmax=vmax)\n",
    "\n",
    "fig.delaxes(fig.axes[2])\n",
    "fig.delaxes(fig.axes[2])\n",
    "\n",
    "fig.colorbar(geo_im, ax=ax2, orientation='horizontal', label='Neutral Density')\n"
   ]
  }
 ],
 "metadata": {
  "kernelspec": {
   "display_name": "satdrag",
   "language": "python",
   "name": "python3"
  },
  "language_info": {
   "codemirror_mode": {
    "name": "ipython",
    "version": 3
   },
   "file_extension": ".py",
   "mimetype": "text/x-python",
   "name": "python",
   "nbconvert_exporter": "python",
   "pygments_lexer": "ipython3",
   "version": "3.10.16"
  }
 },
 "nbformat": 4,
 "nbformat_minor": 2
}
